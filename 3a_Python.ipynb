{
  "nbformat": 4,
  "nbformat_minor": 0,
  "metadata": {
    "colab": {
      "provenance": [],
      "collapsed_sections": [
        "GToL0ukBU3Ed",
        "eOratj8EtsJZ",
        "tdT_r0lP8hCS",
        "jzzYPfQD9pxs"
      ]
    },
    "kernelspec": {
      "name": "python3",
      "display_name": "Python 3"
    },
    "language_info": {
      "name": "python"
    }
  },
  "cells": [
    {
      "cell_type": "markdown",
      "source": [
        "> Bibliotecas"
      ],
      "metadata": {
        "id": "N0KcwFe06o8c"
      }
    },
    {
      "cell_type": "code",
      "source": [
        "import pandas as pd\n",
        "import pathlib\n",
        "import numpy as np                      #trab c numero\n",
        "import seaborn as sns\n",
        "import matplotlib.pyplot as plt         #gráficos\n",
        "import plotly.express as px\n",
        "from sklearn.metrics import r2_score, mean_squared_error\n",
        "from sklearn.linear_model import LinearRegression\n",
        "from sklearn.ensemble import RandomForestRegressor, ExtraTreesRegressor\n",
        "from sklearn.model_selection import train_test_split\n",
        "\n",
        "'''\n",
        "Se alguma biblioteca der probelma na importação:\n",
        "- Abrir o prompt do Anaconda    -> não confundir com o prompt do pc\n",
        "- Instalar com o pip\n",
        "   > pip install pacote\n",
        "'''"
      ],
      "metadata": {
        "id": "WDWqsRSg6of5"
      },
      "execution_count": null,
      "outputs": []
    },
    {
      "cell_type": "markdown",
      "source": [
        "> input: pegar info do usuário\n",
        "```\n",
        "variavel = input('Pergunta para ser respondida')\n",
        "```"
      ],
      "metadata": {
        "id": "ZlkpcbwjH7Dc"
      }
    },
    {
      "cell_type": "markdown",
      "source": [
        "> Comparadores"
      ],
      "metadata": {
        "id": "smo5oOjOJRAT"
      }
    },
    {
      "cell_type": "code",
      "source": [
        "'''\n",
        "==    igual\n",
        "!=    diferente\n",
        ">     maior que (>= maior ou igual)\n",
        "<     menor que (<= menor ou igual)\n",
        "in    texto existe dentro de outro texto \n",
        "not   verifica o contrário da comparação\n",
        "pass  se em alguma condição você não quiser fazer nada\n",
        "'''"
      ],
      "metadata": {
        "id": "JLgA02CPI7mL"
      },
      "execution_count": null,
      "outputs": []
    },
    {
      "cell_type": "markdown",
      "source": [
        "> Operações com string"
      ],
      "metadata": {
        "id": "rMI8giUlJyeY"
      }
    },
    {
      "cell_type": "code",
      "source": [
        "'''\n",
        "Cartilha: https://drive.google.com/file/d/1IXS85au1DNiddRkiKBpiD8SnDjZV8j_h/view\n",
        "\n",
        "str            transforma número em string\n",
        "in             verifica se um texto está contido dentro do outro\n",
        "operador +     concatenar string\n",
        "format e {}    substitui valores\n",
        "%s             substitui textos\n",
        "%d             substitui números decimais\n",
        "+              Serve para concatenar strings\n",
        "in e not       Servem para fazer verificações em string\n",
        "len()          Calcula o tamanho do texto (quantidade de caracteres)\n",
        "capitalize()   Coloca a 1ª letra Maiúscula\n",
        "casefold()     Transforma todas as letras em minúsculas (existe lower() mas o casefold é melhor normalmente)\n",
        "count()\t       Quantidade de vezes que um valor aparece na string\n",
        "endswith()     Verifica se o texto termina com um valor específico e dá como resposta True ou False\n",
        "find()         Procura um texto dentro de outro texto e dá como resposta a posição do texto encontrado\n",
        "format()       Formata uma string de acordo com os valores passados. Já usamos bastante ao longo do programa.\n",
        "isalnum()      Verifica se um texto é todo feito com caracteres alfanuméricos (letras e números) -> letras com acento ou ç são considerados letras para essa função.\n",
        "isalpha()      Verifica se um texto é todo feito de letras.\n",
        "isnumeric()\t   Verifica se um texto é todo feito por números.\n",
        "replace()      Substitui um texto por um outro texto em uma string.\n",
        "split()\t       Separa uma string de acordo com um delimitador em vários textos diferentes.\n",
        "splitlines()   Separa um texto em vários textos de acordo com os \"enters\" do texto\n",
        "startswith()   Verifica se a string começa com determinado texto\n",
        "strip()\t       Retira caracteres indesejados dos textos. Por padrão, retira espaços \"extras\" no início e no final\n",
        "title()        Coloca a 1ª letra de cada palavra em maiúscula\n",
        "upper()\t       Coloca o texto todo em letra maiúscula\n",
        "sort()         Organizar\n",
        "\n",
        "list(map(funcao, lista))    o map recebe 2 infos, a função q quer executar para cada item do iterable. Precisa do list antes p transformar o q quermos em lista\n",
        "\n",
        "lambda         função anonima. Executa apenas uma linha de código\n",
        "'''"
      ],
      "metadata": {
        "id": "fca6YK4uJ05n"
      },
      "execution_count": null,
      "outputs": []
    },
    {
      "cell_type": "markdown",
      "source": [
        "> Funções"
      ],
      "metadata": {
        "id": "ZTJZlLyULKfa"
      }
    },
    {
      "cell_type": "code",
      "source": [
        "'''\n",
        "#Cartilha: https://drive.google.com/file/d/1ACr4_GJjUqGhLSQaoh8-Vq3HyFYSKn2z/view\n",
        "\n",
        ":<\t\tAlinha o texto à esquerda (se tiver espaço na tela para isso)\n",
        ":>\t\tAlinha o texto à direita (se tiver espaço na tela para isso)\n",
        ":^\t\tAlinha o texto ao centro (se tiver espaço na tela para isso)\n",
        ":+\t\tColoca o sinal sempre na frente do número (independente se é positivo ou negativo)\n",
        ":,\t\tColoca a vírgula como separador de milhar\n",
        ":_\t\tColoca o _ como separador de milhar\n",
        ":e\t\tFormato Científico\n",
        ":f\t\tNúmero com quantidade fixa de casas decimais\n",
        ":x\t\tFormato HEX minúscula (para cores)\n",
        ":X\t\tFormato HEX maiúscula (para cores)\n",
        ":%\t\tFormato Percentual\n",
        "'''"
      ],
      "metadata": {
        "id": "s-LNsG_kLLhs"
      },
      "execution_count": null,
      "outputs": []
    },
    {
      "cell_type": "markdown",
      "source": [
        ">Criar uma function\n",
        "- A function pode ter várias ações e dar uma lista/dicionario como resposta, que poderemos usar posteriormente.\n",
        "- Podemos fazer uma function que retorna um valor armazenando numa variável\n",
        "- Uma variavel criada DENTRO da function, só existe dentro dela. Se for usar essa variável depois, pode dar erro dizendo que não foi definida. Por isso usar o return\n",
        "\n",
        "```\n",
        "def nome_função():\n",
        "  faça alguma coisa\n",
        "  faça outra coisa\n",
        "  return valor_final\n",
        "```\n",
        "\n",
        "\n",
        "```\n",
        "def minha_soma(num1, num2, num3):\n",
        "    return num1 + num2 + num3\n",
        "\n",
        "soma = minha_soma(10, 20, 0)\n",
        "print(soma)\n",
        "```\n",
        "\n"
      ],
      "metadata": {
        "id": "stG4kG1VVtJ3"
      }
    },
    {
      "cell_type": "markdown",
      "source": [
        "> Lambda"
      ],
      "metadata": {
        "id": "0wRYHNv2EBog"
      }
    },
    {
      "cell_type": "code",
      "source": [
        "'''\n",
        "Função anonima que faz uma unica ação\n",
        "  variavel = lambda parametro: expressao\n",
        "\n",
        "'''"
      ],
      "metadata": {
        "id": "y9XtA9o8EB5J"
      },
      "execution_count": null,
      "outputs": []
    },
    {
      "cell_type": "markdown",
      "source": [
        "##### Listas, Tuplas e Dicionários"
      ],
      "metadata": {
        "id": "_jQVmqOdfaBZ"
      }
    },
    {
      "cell_type": "code",
      "source": [
        "'''\n",
        "list.append(valor)            Adiciona um valor ao final de uma lista\n",
        "list.append(valor)            Adiciona um valor ao final de uma lista\n",
        "list.insert(posicao, valor)   Adiciona um valor em uma posição específica em uma lista. Não é recomendado usar a não ser que seja realmente necessário inserir em uma posição específica, porque o método append é mais eficiente.\n",
        "list.remove(valor)            Remove o valor da lista (apenas a 1ª ocorrência, então caso haja 2 vezes o valor na lista, apenas a 1ª será removida). Além disso, dá um erro caso valor não exista dentro da lista.\n",
        "list.pop(posicao)             Remove o item que está na posicao (índice) passado. Além disso, esse item é dado como resultado do pop, portanto pode ser armazenado em uma variável ou usado para outra coisa na mesma linha de código.\n",
        "list.pop(posicao)             Remove o item que está na posicao (índice) passado. Além disso, esse item é dado como resultado do pop, portanto pode ser armazenado em uma variável ou usado para outra coisa na mesma linha de código.\n",
        "list.pop(posicao)             Remove o item que está na posicao (índice) passado. Além disso, esse item é dado como resultado do pop, portanto pode ser armazenado em uma variável ou usado para outra coisa na mesma linha de código.\n",
        "list.count(valor)             Retorna a quantidade de vezes que o valor aparece na lista\n",
        "list.count(valor)             Retorna a quantidade de vezes que o valor aparece na lista\n",
        "list.reverse()                Inverte a ordem dos elementos de uma lista.\n",
        "list.copy()                   Cria uma cópia da lista original. Outra opção é fazer lista2 = lista1[:]\n",
        "'''"
      ],
      "metadata": {
        "id": "jM7795UzMP3E"
      },
      "execution_count": null,
      "outputs": []
    },
    {
      "cell_type": "markdown",
      "source": [
        "> Tuplas\n",
        "\n",
        "- É como uma lista, mas ao inves de [] se usa ()\n",
        "- É imutável (não consegue alterar dentro dessa lista)\n",
        "- Pode ter varios tipos de variavel, como texto, numero etc (na lista não pode)\n",
        "- Vantagem: protege os dados para não ser modificado dentro do programa e é + rápido que listas"
      ],
      "metadata": {
        "id": "15IVV_FcD1VE"
      }
    },
    {
      "cell_type": "markdown",
      "source": [
        "> Dicionário\n",
        "```\n",
        "dicionario = {chave: valor, chave: valor, chave: valor, chave: valor ...}\n",
        "```\n",
        "- Ao inves de pegar info por meio de indice, pegamos por uma chave/nome\n",
        "- Não devem ser usados para pegar itens em uma determinada ordem\n",
        "- Podem ter valores heterogêneos (vários tipos de valores dentro de um mesmo dicionário: inteiros, strings, listas, etc)\n",
        "- Chaves são únicas obrigatoriamente\n",
        "- Mais intuitivos de trabalhar\n"
      ],
      "metadata": {
        "id": "Ua5Oza_Kughd"
      }
    },
    {
      "cell_type": "code",
      "source": [
        "'''\n",
        "copy()                          #Cria uma cópia do dicionário\n",
        "fromkeys(chaves, valor_padrao)  #Pega todos os itens do dicionario individualmente\n",
        "get(chave)                      #Buscar uma chave (Semelhante a fazer dictionario[chave]\n",
        "items()                         #Retorna uma lista em que cada item é uma tupla com (chave, valor)\n",
        "keys()                          #Pegar uma lista com todas as chaves do dicionario\n",
        "setdefault(chave, valor)        #Retorna o valor da chave passada, mas caso a chave não exista, cria no dicionário o item com a chave e valor passados.\n",
        "values()                        #Pegar uma lista com todos os valroes do dicionario\n",
        "del                             #excluir item: del dicionario[chave]\n",
        "pop                             #tira o item e armazena numa variavel p caso precise\n",
        "popitem()                       #retira o último item add no dicionário ao mesmo tempo que armazena o item(chave, valor) dele na variável\n",
        "clear()                         #limpa todos os itens do dicionario sem apagar o dicionario\n",
        "sort()                          #Colocar em ordem alfabetica\n",
        "'''\n",
        "_________________________________________________________________________________________________\n",
        "'''Adicionar itens no dicionario'''\n",
        "dicionario = {}\n",
        "_________________________________________________________________________________________________\n",
        "'''Modificar itens no dicionario'''\n",
        "dicionario[chave_ja_existente] = valor\n",
        "_________________________________________________________________________________________________\n",
        "'''Transformar dict_listas em listas normais'''\n",
        "lista_chave = list(dicionario.keys())   #função list\n",
        "_________________________________________________________________________________________________\n",
        "'''Tranformar Listas em Dicionários'''\n",
        "dicionario = dict.fromkeys(lista_chaves, valor)\n",
        "dicionario = dict.fromkeys(lista_chaves, 0)\n",
        "print(dicionario)   #vai aparecer as {'chave1':0, 'chave2':0...}"
      ],
      "metadata": {
        "id": "JXqjg7WTY5Vk"
      },
      "execution_count": null,
      "outputs": []
    },
    {
      "cell_type": "markdown",
      "source": [
        "> Iterable\n",
        "- Estrutura que armazena dados que pode ser \"iterada\"\n",
        "- Você pode fazer um loop como um FOR dentro dela e ir passando de item a item\n",
        "- É como um tipo de lista de coisas que você pode ir olhando cada um dos elementos dentro dela.\n",
        "- Iterable: string, lista, tupla, dicionario, range"
      ],
      "metadata": {
        "id": "cRzBloChbsII"
      }
    },
    {
      "cell_type": "markdown",
      "source": [
        "##### Range"
      ],
      "metadata": {
        "id": "qbwOiTukd7Oy"
      }
    },
    {
      "cell_type": "code",
      "source": [
        "produtos = ['arroz', 'feijao', 'macarrao', 'atum', 'azeite']\n",
        "estoque = [50, 100, 20, 5, 80]\n",
        "\n",
        "#range(tamanho)\n",
        "for i in range(5):\n",
        "    print('{}: {} unidades em estoque'.format(produtos[i], estoque[i]))\n",
        "\n",
        "#range(inicio, fim)\n",
        "for i in range(1,10):\n",
        "  print(i)\n",
        "\n",
        "#range(inicio, fim, passo)"
      ],
      "metadata": {
        "id": "MKGrm_9yd9Ge"
      },
      "execution_count": null,
      "outputs": []
    },
    {
      "cell_type": "markdown",
      "source": [
        "##### Set"
      ],
      "metadata": {
        "id": "gEYdYGdIgA3D"
      }
    },
    {
      "cell_type": "markdown",
      "source": [
        "- Não pode ter valores duplicados\n",
        "- Não tem ordem fixa\n",
        "```\n",
        "meu_set = {valor, valor, valor, valor,...}\n",
        "```"
      ],
      "metadata": {
        "id": "0fCHaBvZDqjg"
      }
    },
    {
      "cell_type": "code",
      "source": [
        "'''\n",
        "add               #adiciona um item no set\n",
        "remove            #retira um item de um set\n",
        "clear             #retira todos os itens de um set\n",
        "union             #junta as informações de 2 sets. Se houver algum valor duplicado, ele constará apenas 1 vez no set final\n",
        "intersection      #pega apenas as informações que existem nos 2 sets ao mesmo tempo\n",
        "difference        #retorna todas as informações de um set que não fazem parte de outro set\n",
        "'''"
      ],
      "metadata": {
        "id": "bfaizx9Yd8-K"
      },
      "execution_count": null,
      "outputs": []
    },
    {
      "cell_type": "markdown",
      "source": [
        "##### Data"
      ],
      "metadata": {
        "id": "wyil9hyhErwQ"
      }
    },
    {
      "cell_type": "code",
      "source": [
        "'''\n",
        "Uma das bibliotecas pra manipular data\n",
        "outra biblioteca: datetime\n",
        "tem um marco zero, que calcula a partir de uma data especifica, que neste caso é 1/01/1970 às 00:00:00\n",
        "\n",
        "time.time ()        #importa o tempo em segundos\n",
        "time.ctime()        #importa a data em formato UTC (padrão)\n",
        "time.sleep(x)       #esperar x segundos para continuar rodando o prog\n",
        "time.gmtime()       #informações detalhadas da data\n",
        "'''\n",
        "\n",
        "import time\n",
        "\n",
        "seg_agr = time.ctime()\n",
        "print(seg_agr)"
      ],
      "metadata": {
        "colab": {
          "base_uri": "https://localhost:8080/"
        },
        "id": "ZpnXdnQYErWM",
        "outputId": "ba8abcad-04c3-42d4-e5a0-05253d01e069"
      },
      "execution_count": null,
      "outputs": [
        {
          "output_type": "stream",
          "name": "stdout",
          "text": [
            "Fri Jan 28 19:09:08 2022\n"
          ]
        }
      ]
    },
    {
      "cell_type": "markdown",
      "source": [
        "##### Gráficos"
      ],
      "metadata": {
        "id": "GToL0ukBU3Ed"
      }
    },
    {
      "cell_type": "code",
      "source": [
        "import pandas as pd\n",
        "import matplotlib.pyplot as plt\n",
        "import seaborn as sns\t\t\t#sempre q importar seaborn DEVE importar matplotlib\n",
        "from sklearn.model_selection import train_test_split\n",
        "from sklearn.linear_model import LinearRegression\n",
        "from sklearn.ensemble import RandomForestRegressor\n",
        "from sklearn import metrics\n",
        "\n",
        "tabela = pd.read_csv('.csv')\n",
        "display(tabela)\n",
        "\n",
        "# corr é de correlação, Wistia é um padrão de cores (há outros no site) e annot é para permitir valores da correlaçãop no mapa\n",
        "sns.heatmap(tabela.corr(), cmap='Wistia', annot=True)\t\t\n",
        "plt.show()\n",
        "\n",
        "#separar as infos em infos x (resto)e y (parte que quero descobrir)\n",
        "y = tabela ['Vendas']\n",
        "x = tabela.drop('Vendas', axis=1)\n",
        "#separa o banco para parte ser de teste e parte de treino, para pode prever. Padrão é 80% e 20%, mas para mudar, depois do (x,y, test_size=0.3) que é 70 30% ou outra %\n",
        "x_treino, x_teste, y_treino, y_teste = train_test_split(x,y)\t\t\n",
        "\n",
        "modelo_reglinear = LinearRegression ()\n",
        "modelo_randomforest = RandomForestRegressor()\n",
        "modelo_reglinear.fit(x_treino, y_treino)\n",
        "modelo_randomforest.fit(x_treino, y_treino)\n",
        "\n",
        "previsao_reglinear = modelo_reglinear.predict(x_teste)\n",
        "previsao_randomforest = modelo_randomforest.predict(x_teste)\n",
        "\n",
        "print(metrics.r2_score(y_teste, previsao_reglinear))\n",
        "print(metrics.r2_score(y_teste, previsao_randomforest))\n",
        "#escolher o modelo com valor mais proximo de 100%, porque ele é melhor para prever nesse caso\n",
        "\n",
        "tabela_aux = pd.DataFrame()\n",
        "tabela_aux['y_teste'] = y_teste\n",
        "tabela_aux['reg linear'] = previsao_reglinear\n",
        "tabela_aux['random forest'] = previsao_randomforest\n",
        "plt.show()"
      ],
      "metadata": {
        "id": "Idgd-YhiU5HV"
      },
      "execution_count": null,
      "outputs": []
    },
    {
      "cell_type": "markdown",
      "metadata": {
        "id": "jzzYPfQD9pxs"
      },
      "source": [
        "##### Manipulação de dados"
      ]
    },
    {
      "cell_type": "code",
      "metadata": {
        "id": "3o8I1CyqCNT4"
      },
      "source": [
        "#Churn - Quando deixa de ser cliente\n",
        "\n",
        "#1.\n",
        "# Importar dados\n",
        "import pandas as pd\n",
        "import plotly.express as px\t\t\n",
        "tabela = pd.read_csv('nome do arquivo.csv')\n",
        "\n",
        "# Visualizar a base de dados > Entender infos disponiveis\n",
        "display(tabela)\n",
        "\n",
        "#2.\n",
        "# Colunas inuteis\n",
        "tabela = tabela.drop('nomecoluna', axis=1)\t\t\t\t#função drop precisa de 2 info, a coluna que quer tirar, e o eixo (axis=0 linha axis=1 coluna)\n",
        "tabela = tabela.drop(['colunax', 'colunay', 'colunaz'], axis=1) \t#quando quer excluir +1 coluna\n",
        "display(tabela)\t\t\t\t\t\t\t#para ver se deu certo excluir\n",
        "\n",
        "# Valores numéricos que python acha que é texto\n",
        "print(tabela.info())\t\t#tras as infos da tabela, como a quantidade de linhas, colunas, nomes das colunas, valores preenchidos (non-null), o tipo de valor (Dtype)\n",
        "#Dtype: object=texto, int64=n°inteiro, float64=n°decimal\n",
        "tabela['nome coluna'] = pd.to_numeric(tabela['nome coluna'], errors='coerce')\t#transformar coluna para n°. O \"errors=coerce\" informar que se tiver erro, é para ignorar esse valor\n",
        "\n",
        "# Valores que estão vazio > tratar primeiro colunas vazias e depois linhas vazias\n",
        "tabela = tabela.dropna(how=all, axis=1)\t\t#excluir valores vazios. Obs: tomar cuidado pra nao deletar info importante sem saber\n",
        "tabela = tabela.dropna(how=any, axis=0)\t\t#Em \"how=\" podemos colocar all ou any, all=qnd tds valores sao vazios; any=qnd tem pelo menos 1 valor vazio\n",
        "\n",
        "\n",
        "#4.\n",
        "# Análise exploratória > Análise geral > Ver como estão os cancelamentos\n",
        "display(tabela['coluna'].value_counts())\t\t\t\t\t#conta os valores daquela coluna\n",
        "display(tabela['coluna'].value_counts(normalize=True))\t\t\t\t#normalize=True mostra os valores em %\n",
        "display(tabela['coluna'].value_counts(normalize=True).map('{:.1%}'.formart))\t#: é para dizer que quero formatar, o 1 é pra fazer a casa decimal\n",
        "\n",
        "#https://plotly.com/python/histograms/\t\n",
        "#https://plotly.com/python/statistical-charts/\n",
        "coluna1 = 'coluna_x'\n",
        "grafico1 = px.histogram(tabela, x=coluna1, color='coluna_a')\t\t#mostra um gráfico com a coluna que quer, mudando a cor por outra coluna\n",
        "grafico1.show()\n",
        "coluna2 = 'coluna_y'\n",
        "grafico2 = px.histogram(tabela, x=coluna2, color='coluna_a')\n",
        "grafico2.show()\n",
        "\n",
        "#para não ficar fazendo vários códigos na mão, podemos automatizar\n",
        "for coluna in tabela.columns:\t\t#permite rodar um código várias vezes, aqui significa \"para cada coluna dessa tabela, rode o codigo abaixo)\n",
        "\tprint(coluna)\t\t\t#os códigos em tab (espaçados) permite que o código entr no for\n",
        "\tgrafico = px.histogram(tabela, x=coluna, color='coluna_a')\n",
        "\tgrafico.show()\n",
        "\n",
        "\n",
        "#5.\n",
        "# Olhando as colunas da base de dados > identificar o motivo dos clientes cancelaren"
      ],
      "execution_count": null,
      "outputs": []
    },
    {
      "cell_type": "markdown",
      "source": [
        "##### List Comprehensions"
      ],
      "metadata": {
        "id": "z2K_3VLNEr3y"
      }
    },
    {
      "cell_type": "code",
      "source": [
        "'''\n",
        "Para cada item da minha lista, faça uma outra lista, e faz o code em basicamente 1 linha\n",
        "  lista = [expressão for item in iterable]\n",
        "usado qnd queremos fazer uma ação percorrer cada item de uma lista\n",
        "\n",
        "para filtrar\n",
        "  lista = [expressão for item in iterable if condição]\n",
        "'''\n",
        "\n",
        "preco_produtos = [100, 150, 300, 5500]\n",
        "produtos = ['vinho', 'cafeiteira', 'microondas', 'iphone']\n",
        "\n",
        "'''\n",
        "#Ao inves de fazer\n",
        "for preco in preco_produtos:\n",
        "  imposto.append(preco * 0.3)\n",
        "print(imposto)\n",
        "Dá pra fazer esse code em 1 linha\n",
        "'''\n",
        "\n",
        "imposto = [preco * 0.3 for preco in preco_produtos]\n",
        "print(imposto)"
      ],
      "metadata": {
        "colab": {
          "base_uri": "https://localhost:8080/"
        },
        "id": "rJfuyhkREq-T",
        "outputId": "b46bb4b1-560b-4c54-fba5-96c950147913"
      },
      "execution_count": null,
      "outputs": [
        {
          "output_type": "stream",
          "name": "stdout",
          "text": [
            "[30.0, 45.0, 90.0, 1650.0]\n"
          ]
        }
      ]
    },
    {
      "cell_type": "code",
      "source": [
        "'''\n",
        "Se cada item de uma lista está ligada a outro item de outra lista, algumas funções que organizam as listas podem bagunçar os itens e essa ligação não é a mesma\n",
        "lista3 = zip(lista1, lista2)    #zip ele junta as 2 listas\n",
        "Se organizar agr uma lista, a outra irá mudar junto. Como a opção filtro do excel, que temos que colocar filtro nas colunas que queremos manter juntas\n",
        "'''\n",
        "vendas_produtos = [1500, 150, 2100, 1950]\n",
        "produtos = ['vinho', 'cafeiteira', 'microondas', 'iphone']\n",
        "\n",
        "lista3 = list(zip(vendas_produtos, produtos))\n",
        "lista3.sort()\n",
        "\n",
        "produtos = [prod for vendas, prod in lista3]\n",
        "print(produtos)"
      ],
      "metadata": {
        "colab": {
          "base_uri": "https://localhost:8080/"
        },
        "id": "pgXl-3tjFr4u",
        "outputId": "897756f5-a98c-47b7-c33e-8d9439cc03d4"
      },
      "execution_count": null,
      "outputs": [
        {
          "output_type": "stream",
          "name": "stdout",
          "text": [
            "['cafeiteira', 'vinho', 'iphone', 'microondas']\n"
          ]
        }
      ]
    }
  ]
}