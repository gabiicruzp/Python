{
  "nbformat": 4,
  "nbformat_minor": 0,
  "metadata": {
    "colab": {
      "provenance": []
    },
    "kernelspec": {
      "name": "python3",
      "display_name": "Python 3"
    },
    "language_info": {
      "name": "python"
    }
  },
  "cells": [
    {
      "cell_type": "markdown",
      "source": [
        "#### Pandas"
      ],
      "metadata": {
        "id": "WnOrHZJh6RR7"
      }
    },
    {
      "cell_type": "code",
      "execution_count": null,
      "metadata": {
        "id": "GYTsvzjKD-6g"
      },
      "outputs": [],
      "source": [
        "'''\n",
        "Importar arquivo\n",
        "\n",
        "'''\n",
        "import pandas as pd\n",
        "df = pd.read_csv('nome_do_arquivo.csv')\n",
        "#alguns documentos csv estão separados por algum caractere, como | , ;. Precisamos informar isso ao pandas\n",
        "df = pd.read_csv('nome_do_arquivo.csv', sep = '|')\n",
        "#colocar o diretorio\n",
        "df = pd.read_csv(r'C:\\caminho todo do arquivo\\nome_do_arquivo.csv', sep = '|')\n",
        "'''\n",
        "Caso na importação de problema na leitura da tabela, testar encoding\n",
        "encoding='latin1'\n",
        "encoding='ISO-8859-1'\n",
        "encoding='utf-8'\n",
        "encoding='cp1252'\n",
        "'''"
      ]
    },
    {
      "cell_type": "code",
      "source": [
        "#Trazer infos, como qnt de dados, NA, type da coluna etc\n",
        "df.info() \n",
        "\n",
        "#Criar novo df com colunas do df original\n",
        "novo_df = df['coluna1', 'coluna2', 'coluna3']\n",
        "#ou\n",
        "lista_colunas = ['coluna1', 'coluna2', 'coluna3']\n",
        "novo_df = df[lista_colunas]\n",
        "\n",
        "#Para aparecer varias tabelas seguidas, e nao fazer blocos de code para cada\n",
        "display(df1)\n",
        "display(df2)\n",
        "display(df3)"
      ],
      "metadata": {
        "id": "FzbLVccJN7fu"
      },
      "execution_count": null,
      "outputs": []
    },
    {
      "cell_type": "code",
      "source": [
        "'''\n",
        "Excluir dados da tabela que não é necessário\n",
        "axis=1 é coluna\n",
        "axis=0 é linha\n",
        "'''\n",
        "df = df.drop(['coluna1', 'coluna2', 'coluna3'], axis=1)\n",
        "#ou\n",
        "df = df.drop(columns=['coluna1', 'coluna2', 'coluna3'])\n",
        "\n",
        "##pode fazer esse codigo e associar a novo df\n"
      ],
      "metadata": {
        "id": "Ifv8rRatOPnL"
      },
      "execution_count": null,
      "outputs": []
    },
    {
      "cell_type": "code",
      "source": [
        "'''\n",
        "Juntar planilhas\n",
        "'''\n",
        "df_nova = df_nova.merge(df1, on='Coluna que conecta as duas')\n",
        "df_nova = df_nova.merge(df2, on='Coluna que conecta as duas')\n",
        "\n",
        "display(df_nova)"
      ],
      "metadata": {
        "id": "0oAXbpvOOpt0"
      },
      "execution_count": null,
      "outputs": []
    },
    {
      "cell_type": "code",
      "source": [
        "'''\n",
        "Alterar nome coluna\n",
        "'''\n",
        "df = df.rename(columns={'Coluna antiga': 'novo nome'})"
      ],
      "metadata": {
        "id": "n20Ih-IVQ9bT"
      },
      "execution_count": null,
      "outputs": []
    },
    {
      "cell_type": "code",
      "source": [
        "'''\n",
        "contar qnt de algo\n",
        "podemos mostrar a msm coisa em gráfico\n",
        "'''\n",
        "qnt = df['coluna'].value_counts()\n",
        "qnt.plot()\n",
        "#podemos modificar o plot.\n",
        "qnt[:5].plot()    #só os 5 primeiros resultados\n",
        "#alterar tamanho. Obs, o tamanho é ir testando o melhor\n",
        "qnt[:5].plot(figsize=(15,5))\n",
        "#alterar eixos (yticks, xticks)\n",
        "qnt[:5].plot(figsize=(15,5), yticks=range(0,100,20))   #vai de 0 a 100, de 20 em 20"
      ],
      "metadata": {
        "id": "ixQdIaIASFOL"
      },
      "execution_count": null,
      "outputs": []
    },
    {
      "cell_type": "code",
      "source": [
        "'''\n",
        "Podemos criar novo df agrupando por item, para poder analisar esse item\n",
        "ex: p somar a qnt de algo\n",
        "groupby\n",
        "'''\n",
        "df_grupo = df.groupby('coluna').sum()\n",
        "df_grupo = df.groupby('coluna').mean()\n",
        "df_grupo = df.groupby('coluna').values.count()\n",
        "\n",
        "'''\n",
        "isso vai fazer um no df apresentando os valores de outras colunas agrupado pela coluna de interesse\n",
        "podemos filtrar apenas pelas colunas que quermos ver\n",
        "'''\n",
        "#colocar duplo colchete pra virar tabela e não series\n",
        "df_grupo = df_grupo[['coluna que queremos', 'coluna que quermos2']] #não precisa colocar a coluna q foi usada p agrupar pq ela vira indice\n",
        "\n",
        "'''\n",
        "Ordenar \n",
        "'''\n",
        "#Ordena por valores de uma coluna\n",
        "df = df.sort_values('coluna') \n",
        "df = df.sort_values('coluna', asceding=False) #decrescente\n",
        "\n",
        "#Criar gráfico\n",
        "df[:5].plot()\n",
        "df[:5].plot(figsize(15,5))\n",
        "df[:5].plot(figsize(15,5), kind=bar)    #kind vc especifica que tipo de gráficos, tem vários no datasheet\n",
        "df[:5].plot()"
      ],
      "metadata": {
        "id": "IfvHXdVRTk0S"
      },
      "execution_count": null,
      "outputs": []
    },
    {
      "cell_type": "code",
      "source": [
        "'''\n",
        "Filtrando\n",
        "'''\n",
        "df_filtro = df[df['coluna'] == x]"
      ],
      "metadata": {
        "id": "7e5WVfnMWxzu"
      },
      "execution_count": null,
      "outputs": []
    },
    {
      "cell_type": "code",
      "source": [
        "'''\n",
        "Modificando e adicionando colunas ao df\n",
        "'''\n",
        "#modificar data\n",
        "df['coluna data'] = pd.to_datetime(df['coluna data'], format='%d/%m/%Y')\n",
        "\n",
        "#add coluna\n",
        "## Se temos uma coluna c um nome, ele modifica ela, mas se nao temos uma coluna c um nome, ele cria uma nova\n",
        "df['coluna criada'] = df['coluna que queremos extrair algo p coluna criada'].dt.year    #dt é de datetime, e estamos criando coluna nova só c o ano. Dependendo do type coloca algo diferente\n",
        "\n",
        "'''\n",
        "loc     #permite acessar uma linha, coluna ou item especifico, pelo indice\n",
        "iloc    #o msm que o loc, mas pega pela posicao do item\n",
        "'''\n",
        "#modificar valor especifico\n",
        "df.loc[[0,2,5]]   #vai pegar as linhas de indice 0, 2, 5\n",
        "#colocar uma coluna como indice   ex:ID\n",
        "df = df.set_index('coluna q quermos como indice')\n",
        "#agr o loc permite acessar de acordo com o nome do prod\n",
        "df.loc[['nome da linha da coluna de indice']]\n",
        "#pegar o valor de uma linha de uma coluna especifica, colocar a coluna apos a linha\n",
        "df.loc[['nome da linha da coluna de indice'], ['coluna']]"
      ],
      "metadata": {
        "id": "s0wsfnw6aPUZ"
      },
      "execution_count": null,
      "outputs": []
    },
    {
      "cell_type": "code",
      "source": [
        "'''\n",
        "Exportar csv\n",
        "'''\n",
        "#Exporta o csv para a pasta que voce extraiu o arquivo\n",
        "df.to_csv('nome do arquivo.csv', sep = ';') #separador pode ser o que vc preferir\n",
        "#Exportar para novo local\n",
        "df.to_csv(r'C:\\diretorio que vc quer\\nome do arquivo.csv', sep = ';') "
      ],
      "metadata": {
        "id": "uWO2uo6mrVvf"
      },
      "execution_count": null,
      "outputs": []
    },
    {
      "cell_type": "code",
      "source": [
        "'''\n",
        "EXCEL\n",
        "pandas\n",
        "ou\n",
        "apenpyxl    #ele trata como VBA do excel, não é tão bom qnt pandas, mas preserva tipo gráfico do excel\n",
        "'''\n",
        "#importar como excel\n",
        "tabela = pd.read_excel('nome arquivo.xlsx')\n",
        "tabela = pd.read_excel(r'C:\\diretorio\\nome arquivo.xlsx')\n",
        "\n",
        "#exportar\n",
        "tabela.to_xlsx('nome arquivo.csv')"
      ],
      "metadata": {
        "id": "3z2hcYI9wdqh"
      },
      "execution_count": null,
      "outputs": []
    },
    {
      "cell_type": "markdown",
      "source": [
        "#### Matplotlib\n",
        "https://matplotlib.org/2.0.2/gallery.html\n",
        "```\n",
        "import matplotlib.pyplot as plt\n",
        "```\n",
        "\n"
      ],
      "metadata": {
        "id": "hqJPpsSXPQCZ"
      }
    },
    {
      "cell_type": "markdown",
      "source": [
        "Fig de figure (tudo que é apresentado) e ax de eixos\n",
        "```\n",
        "fig, ax = plt.subplots()\n",
        "ax.plot(df1['coluna1'], df1['coluna2'])\n",
        "```\n",
        "Caso queira plotar + graficos junto c o anterior é só continuar c o code\n",
        "```\n",
        "ax.plot(df2['coluna1', df2['coluna2']])\n",
        "```\n",
        "Visualizar\n",
        "```\n",
        "plt.show()\n",
        "```"
      ],
      "metadata": {
        "id": "sV0cXi0WVbwL"
      }
    },
    {
      "cell_type": "markdown",
      "source": [
        "##### Costumizar"
      ],
      "metadata": {
        "id": "CtV0E9oeygRJ"
      }
    },
    {
      "cell_type": "markdown",
      "source": [
        "1. Colocar os pontos no gráfico\n",
        "###### https://matplotlib.org/stable/api/markers_api.html\n",
        "```\n",
        "ax.plot(df1['coluna1'], df1['coluna2'], marker = 'o')\n",
        "      'o' usa circulos   'v' usa triangulos\n",
        "```\n",
        "    \n",
        "2. Alterar as linhas\n",
        "```\n",
        "ax.plot(df1['coluna1'], df1['coluna2'], linestyle = '--')\n",
        "       'None'    ':'    '-.'    '--'    '-'\n",
        "``` \n",
        "3. Alterar a cor\n",
        "```\n",
        "ax.plot(df1['coluna1'], df1['coluna2'], color ='r')   #r de red\n",
        "```\n",
        "4. Alterar nome dos eixos\n",
        "```\n",
        "ax.set_xlabel('Nome do eixo x')\n",
        "ax.set_ylabel('Nome do eixo y')\n",
        "ax.set_title('Nome do titulo')\n",
        "```"
      ],
      "metadata": {
        "id": "k0skwh_CUnHc"
      }
    },
    {
      "cell_type": "markdown",
      "source": [
        "##### Adicionar mais dados"
      ],
      "metadata": {
        "id": "B-SLLKBkyoVJ"
      }
    },
    {
      "cell_type": "markdown",
      "source": [
        "As vezes add muitos dados prejudica o gráfico, então temos subplot\n",
        "1. Cria uma grade de gráficos (ex: 3 linhas x 2 colunas)\n",
        "```\n",
        "fig, ax = plt.subplots(3,2)\n",
        "      Para adicionar os dados, precisamos chamar os dados por posição\n",
        "ax[0, 0].plot(df['coluna1'],\n",
        "              df['coluna2'],\n",
        "              color='b'])\n",
        "```\n",
        "\n",
        "2. Caso tenha apenas 1 linha ou 1 coluna\n",
        "```\n",
        "fig, ax = plt.subplots(3,2)\n",
        "ax[0].plot(df['coluna1'],\n",
        "              df['coluna2'],\n",
        "              color='b'])\n",
        "ax[1].plot(df['coluna1'],\n",
        "              df['coluna2'],\n",
        "              color='b'])\n",
        "ax[0].set_ylabel('Eixo')\n",
        "ax[1].set_ylabel('Eixo')\n",
        "ax[1].set_xlabel('Eixo')\n",
        "        Como são 2 linhas x 1 coluna, precisamos de 2 titulos eixo y e 1 eixo x\n",
        "```\n",
        "3. Colocar todos os gráficos no mesmo range\n",
        "```\n",
        "fig, ax = plt.subplots(3,2, sharey=True)\n",
        "```\n"
      ],
      "metadata": {
        "id": "xzCnTxMqegNl"
      }
    },
    {
      "cell_type": "markdown",
      "source": [
        "Quando queremos comparar 2 dados com range mt diferente, podemos colocar um range no eixo a esquerda e outro dado com range no eixo a direita\n",
        "\n",
        "```\n",
        "fig, ax = plt.subplots()\n",
        "ax.plot(df.index, df['coluna'], color='red')\n",
        "ax.set_xlabel('eixo')\n",
        "ax.set_ylabel('eixo', color = 'red')\n",
        "ax.tick_params('y', color='red')\n",
        "\n",
        "ax2 = ax.twinx()\n",
        "ax2.plot(df.index, df['coluna2'], color = 'blue')\n",
        "ax2.set_ylabel('eixo', color='blue')\n",
        "ax.tick_params('y', colors='blue')\n",
        "\n",
        "plt.show()\n",
        "```\n",
        "\n",
        "1. Criando Function para optimizar os gráficos\n",
        "```\n",
        "def plot_timeseries(axes, x,y, color, xlabel, ylabel):\n",
        "  axes.plot(x, y, color=color)\n",
        "  axes.set_xlabel(xlabel)\n",
        "  axes.set_ylabel(ylabel, color=color)\n",
        "  axes.tick_params('y', colors=color)\n",
        "\n",
        "  plot_timeseries(ax, df.index, df['coluna1', 'red', 'EixoX', 'EixoY1'])\n",
        "  ax2 = ax.twinx()\n",
        "  plot_timeseries(ax, df.index, df['coluna2', 'blue', 'EixoX', 'EixoY2'])\n",
        "```"
      ],
      "metadata": {
        "id": "AEgarhM1kGQL"
      }
    },
    {
      "cell_type": "markdown",
      "source": [
        "##### Gráfico de Barra"
      ],
      "metadata": {
        "id": "uGq3ZJ8M5Q2m"
      }
    },
    {
      "cell_type": "markdown",
      "source": [
        "```\n",
        "fig, ax = plt.subplots()\n",
        "ax.bar(df.index, df['coluna'])\n",
        "```\n",
        "\n",
        "1. Arrumar os labels\n",
        "```\n",
        "ax.set_xticklabels(df.index, rotation = 90)\n",
        "```\n",
        "\n",
        "2. Add outros dados no gráfico\n",
        "```\n",
        "ax.bar(df.index, df['coluna1'])\n",
        "ax.bar(df.index, df['coluna2'], bottom=df['coluna1'])\n",
        "ax.bar(df.index, df['coluna2'], bottom=df['coluna1'] + df['coluna3'])\n",
        "ax.set_xticklabels(df.index, rotation = 90)\n",
        "ax.set_ylabel('Eixo y')\n",
        "```\n",
        "\n",
        "3. Adicionar legenda\n",
        "```\n",
        "ax.bar(df.index, df['coluna1'], label = 'nome')\n",
        "ax.bar(df.index, df['coluna2'], bottom=df['coluna1'], label = 'nome2')\n",
        "ax.bar(df.index, df['coluna3'], bottom=df['coluna1'] + df['coluna2'], label = 'nome3')\n",
        "ax.set_xticklabels(df.index, rotation = 90)\n",
        "ax.set_ylabel('Eixo y')\n",
        "ax.legend()\n",
        "```"
      ],
      "metadata": {
        "id": "19rGBI-yAaIr"
      }
    },
    {
      "cell_type": "markdown",
      "source": [
        "##### Histogramas"
      ],
      "metadata": {
        "id": "7dzv9UWFAhW4"
      }
    },
    {
      "cell_type": "markdown",
      "source": [
        "```\n",
        "ax.hist(df['coluna1'], label = 'Coluna')\n",
        "ax.hist(df['coluna2'], label = 'Coluna2')\n",
        "ax.set_xlabel('Eixo X')\n",
        "ax.set_ylabel('Eixo y')\n",
        "ax.legend()\n",
        "plt.show()\n",
        "```\n",
        "1. Dividir o gráfico em x colunas com bins\n",
        "```\n",
        "ax.hist(df['coluna1'], label = 'Coluna', bins=5)\n",
        "ax.hist(df['coluna2'], label = 'Coluna2', bins=5)\n",
        "ax.set_xlabel('Eixo X')\n",
        "ax.set_ylabel('Eixo y')\n",
        "ax.legend()\n",
        "plt.show()\n",
        "```\n",
        "2. Colocar um range ao inves de n° de bins\n",
        "```\n",
        "ax.hist(df['coluna1'], label = 'Coluna1', bins=[5, 10, 15, 20])\n",
        "ax.hist(df['coluna2'], label = 'Coluna2', bins=[5, 10, 15, 20])\n",
        "ax.set_xlabel('Eixo X')\n",
        "ax.set_ylabel('Eixo y')\n",
        "ax.legend()\n",
        "plt.show()\n",
        "```\n",
        "3. Podemos alterar o tipo da barra com histtype\n",
        "```\n",
        "ax.hist(df['coluna1'], label = 'Coluna1', bins=[5, 10, 15, 20], histtype = 'step')\n",
        "ax.hist(df['coluna2'], label = 'Coluna2', bins=[5, 10, 15, 20], histtype = 'step')\n",
        "```\n"
      ],
      "metadata": {
        "id": "_gMWFKlsAkuL"
      }
    },
    {
      "cell_type": "markdown",
      "source": [
        "##### Barra de Erro"
      ],
      "metadata": {
        "id": "8WcPil9AEi9x"
      }
    },
    {
      "cell_type": "markdown",
      "source": [
        "```\n",
        "fig, ax = plt.subplots()\n",
        "\n",
        "ax.bar('Nova_coluna',\n",
        "       df['coluna1'].mean()\n",
        "       yerr=df['coluna1'].std())\n",
        "\n",
        "ax.bar('Nova_coluna2',\n",
        "       df['coluna2'].mean()\n",
        "       yerr=df['coluna2'].std())\n",
        "\n",
        "ax.set_ylabel('Eixo y')\n",
        "plt.show()\n",
        "```"
      ],
      "metadata": {
        "id": "-xTLqnT0EnrJ"
      }
    },
    {
      "cell_type": "markdown",
      "source": [
        "##### Boxplot"
      ],
      "metadata": {
        "id": "wDyZuLFyJYLq"
      }
    },
    {
      "cell_type": "markdown",
      "source": [
        "```\n",
        "ax.boxplot([df['coluna1'], df['coluna2']])\n",
        "\n",
        "ax.set_xticklabels(['nome', 'nome2'])\n",
        "ax.set_ylabel('Eixo y')\n",
        "\n",
        "plt.show()\n",
        "```\n",
        "Média = linha que aparece no meio\n",
        "A caixa é a distancia interquartilica (entre 25 e 75)\n",
        "Risco é o IC de 95\n",
        "Outlier = Pontos que aparecem fora"
      ],
      "metadata": {
        "id": "iX0_Ac62JYD_"
      }
    },
    {
      "cell_type": "markdown",
      "source": [
        "##### Scatterplot"
      ],
      "metadata": {
        "id": "ZYfg-vkLJd7_"
      }
    },
    {
      "cell_type": "markdown",
      "source": [
        "```\n",
        "fig, ax = plt.subplots()\n",
        "ax.scatter([df['coluna1'], df['coluna2']])\n",
        "```\n",
        "1. Colocar 2 dados\n",
        "```\n",
        "x = df['data1':'data2']\n",
        "y = df['data1':'data2']\n",
        "ax.scatter(vr1['Coluna1'], vr1['colouna2'], color='red', label='x')\n",
        "ax.scatter(vr2['Coluna1'], vr2['colouna2'], color='blue', label='y')\n",
        "ax.legend()\n",
        "ax.set_xlabel('Eixo x')\n",
        "ax.set_ylabel('Eixo y')\n",
        "plt.show()\n",
        "```\n",
        "2. Cada indice uma cor\n",
        "```\n",
        "ax.scatter(df['Coluna1'], df['colouna2'], c=df.index)\n",
        "ax.set_xlabel('Eixo x')\n",
        "ax.set_ylabel('Eixo y')\n",
        "plt.show()\n",
        "```"
      ],
      "metadata": {
        "id": "tie1e2FBMAG2"
      }
    },
    {
      "cell_type": "markdown",
      "source": [
        "##### Manipulando desing do gráfico"
      ],
      "metadata": {
        "id": "OVF9QmC7NfX6"
      }
    },
    {
      "cell_type": "markdown",
      "source": [
        "https://matplotlib.org/stable/gallery/style_sheets/style_sheets_reference.html\n",
        "1. Usar ggplot altera todo o desing do gráfico\n",
        "```\n",
        "plt.style.use('ggplot')\n",
        "fig, ax = plt..subplots()\n",
        "ax.plot(df['coluna1'], df['coluna2'])\n",
        "ax.plot(df2['coluna1'], df2['coluna2'])\n",
        "ax.set_xlabel('Eixo x')\n",
        "ax.set_ylabel('Eixo y')\n",
        "plt.show()\n",
        "```\n",
        "2. Voltar ao padrão\n",
        "```\n",
        "plt.style.use('default')\n",
        "```\n",
        "\n",
        "3. Alguns modelos\n",
        "```\n",
        "plt.style.use('ggplot')\n",
        "plt.style.use('bmh')\n",
        "plt.style.use('seaborn-colorblind')\n",
        "```\n",
        "4. Tamanho\n",
        "```\n",
        "fig.set_size_inches([5,3])\n",
        "```"
      ],
      "metadata": {
        "id": "ud99kDt0NfQn"
      }
    },
    {
      "cell_type": "markdown",
      "source": [
        "##### Salvar figuras"
      ],
      "metadata": {
        "id": "PgLHLRUWRISV"
      }
    },
    {
      "cell_type": "markdown",
      "source": [
        "```\n",
        "fig.savefig('nome da figura.png')\n",
        "fig.savefig('nome da figura.jpg')\n",
        "fig.savefig('nome da figura.jpg', quality = 50)     #entr 1 e 100, mas qlq numero acima de 95 é ineficaz\n",
        "fig.savefig('nome da figura.svg')                   #pode ser editado a fig dps\n",
        "fig.savefig('nome da figura.png', dpi=300)          #dots per inche, qnt maior mais renderizada\n",
        "```"
      ],
      "metadata": {
        "id": "LKPRzJZUTjA7"
      }
    },
    {
      "cell_type": "markdown",
      "source": [
        "#### Pathlib\n",
        "    Controla pastas e arquivos do PC"
      ],
      "metadata": {
        "id": "A4E4S9mr6T_H"
      }
    },
    {
      "cell_type": "code",
      "source": [
        "from pathlib import Path"
      ],
      "metadata": {
        "id": "0oo12w5_6V33"
      },
      "execution_count": null,
      "outputs": []
    },
    {
      "cell_type": "code",
      "source": [
        "#Descobre onde está o arquivo/diretório\n",
        "caminho = Path.cwd()\n",
        "\n",
        "#Navegar até uma pasta especifica\n",
        "caminho = Path('diretorio')\n",
        "\n",
        "#Listar todos os arquivos da pasta atual\n",
        "arquivos = Path.iterdir()\n",
        "\n",
        "#Crindo uma pasta\n",
        "Path('diretorio/nova_pasta').mkdir()\n",
        "\n",
        "#Verificando se arquivo existe\n",
        "arquivo = Path('diretorio/arquivo.extensao').arquivo.exists()\n",
        "\n",
        "#movendo arquivo\n",
        "Path('caminho/arquivo.extensao').rename('caminho_novo/arquivo.extensao')"
      ],
      "metadata": {
        "id": "DDEhCjk-6pdr"
      },
      "execution_count": null,
      "outputs": []
    },
    {
      "cell_type": "markdown",
      "source": [
        "#### Shutil\n",
        "    Ações de copiar e colar arquivo"
      ],
      "metadata": {
        "id": "E_l7X9DJ6pKJ"
      }
    },
    {
      "cell_type": "code",
      "source": [
        "import shutil\n",
        "\n",
        "#Copiando um arquivo\n",
        "shutil.copy2('arquivo_para_copiar.extensao', 'nome_da_copia_criada.extensao')\n",
        "\n",
        "#Movendo um arquivo\n",
        "shutil.move(Path('caminho/arquivo.extensao'), Path('caminho_novo/arquivo.extensao'))"
      ],
      "metadata": {
        "id": "Vq7FoeL76p_K"
      },
      "execution_count": null,
      "outputs": []
    },
    {
      "cell_type": "code",
      "source": [],
      "metadata": {
        "id": "09qijr6W7Nx7"
      },
      "execution_count": null,
      "outputs": []
    }
  ]
}