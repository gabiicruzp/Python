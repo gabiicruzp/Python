{
  "nbformat": 4,
  "nbformat_minor": 0,
  "metadata": {
    "colab": {
      "provenance": []
    },
    "kernelspec": {
      "name": "python3",
      "display_name": "Python 3"
    },
    "language_info": {
      "name": "python"
    }
  },
  "cells": [
    {
      "cell_type": "code",
      "source": [
        "'''copy()     #Cria uma cópia do dicionário'''\n",
        "vendas_mes = {'jan': 150, 'fev': 100, 'mar': 190}\n",
        "vendas2_mes = vendas_mes.copy()\n",
        "print(vendas2_mes)\n",
        "\n",
        "_________________________________________________________________________________________________\n",
        "'''fromkeys(chaves, valor_padrao)  #Pega todos os itens do dicionario individualmente'''\n",
        "itens_dicionario.items()\n",
        "print(dicionario)   #vai aparecer uma lista de tupla com todas as chaves e valores\n",
        "#ou \n",
        "for chave in dicionario.items():\n",
        "  if dicionario[chave] > 5000: \n",
        "    print('Tem {} de {}'.format(dicionario[chave], chave))       #aparece tuplas organizado em linhas \n",
        "#ou\n",
        "for chave, valor in dicionario.items():  #faz um unpaking dos itens do dicionario \n",
        "  if valor > 5000:\n",
        "    print('Tem {} de {}'.format(valor, chave))   \n",
        "\n",
        "##ex: \n",
        "chaves = ('jan', 'fev', 'mar')\n",
        "vendas = 100\n",
        "vendas_mes = dict.fromkeys(chaves, vendas)\n",
        "print(vendas_mes)\n",
        "\n",
        "_________________________________________________________________________________________________\n",
        "'''get(chave) -> Buscar uma chave (Semelhante a fazer dictionario[chave]'''\n",
        "dicionario.get(chave)\n",
        "print(dicionario)\n",
        "\n",
        "# Ver se tem uma chave/item \n",
        "if chave in dicionario:\n",
        "  print(dicionario['chave'])\n",
        "else:\n",
        "  print('Não tem esse item')\n",
        "#ou\n",
        "if dicionario['chave'] == None:\n",
        "  print('Não tem esse item')\n",
        "else:\n",
        "  print(dicionario.get('chave'))\n",
        "\n",
        "##ex:\n",
        "vendas_mes = {'jan': 150, 'fev': 100, 'mar': 190}\n",
        "print(vendas_mes.get('mar'))\n",
        "\n",
        "\n",
        "________________________________________________________________________________________________\n",
        "'''items() -> Retorna uma lista em que cada item é uma tupla com (chave, valor)'''\n",
        "vendas_mes = {'jan': 150, 'fev': 100, 'mar': 190}\n",
        "print(list(vendas_mes.items()))\n",
        "\n",
        "_________________________________________________________________________________________________\n",
        "'''keys()     #Pegar uma lista com todas as chaves do dicionario'''\n",
        "variavel1 = dicionario.keys()\n",
        "print(variavel1)         #aparece dict_keys([lista])\n",
        "print(list(variavel1))   # transforma em lista\n",
        "\n",
        "##ex:\n",
        "vendas_mes = {'jan': 150, 'fev': 100, 'mar': 190}\n",
        "print(list(vendas_mes.keys()))\n",
        "\n",
        "_________________________________________________________________________________________________\n",
        "'''setdefault(chave, valor) -> Retorna o valor da chave passada, mas caso a chave não exista, cria no dicionário o item com a chave e valor passados.'''\n",
        "vendas_mes = {'jan': 150, 'fev': 100, 'mar': 190}\n",
        "vendas_fev = vendas_mes.setdefault('fev', 500)\n",
        "print(vendas_fev)\n",
        "##repare que como fevereiro existe na lista, ele procura pelo valor de fevereiro e ignora o 500 passado\n",
        "##agora quando não existe na lista:\n",
        "vendas_abr = vendas_mes.setdefault('abr', 600)\n",
        "##repare que agora além de vendas_abr retornar o 600 como valor, ele adicionou um item no dicionario\n",
        "print(vendas_abr)\n",
        "print(vendas_mes)\n",
        "\n",
        "_________________________________________________________________________________________________\n",
        "'''Adicionar itens no dicionario'''\n",
        "dicionario = {}\n",
        "dicionario[chave] = valor\n",
        "#ou...qnd tiver mts itens para adicionar\n",
        "dicionario.update({chave:valor, chave:valor})\n",
        "##ex:\n",
        "vendas_mes = {'jan': 150, 'fev': 100, 'mar': 190}\n",
        "vendas_2tri = {'abr': 400, 'mai': 600, 'jun': 500}\n",
        "vendas_mes.update(vendas_2tri)\n",
        "print(vendas_mes)\n",
        "\n",
        "_________________________________________________________________________________________________\n",
        "'''values()     #Pegar uma lista com todos os valroes do dicionario'''\n",
        "variavel2 = dicionario.value()\n",
        "print(variavel2)         #aparece dict_value([lista])\n",
        "print(list(variavel2))   # transforma em lista \n",
        "##ex:\n",
        "vendas_mes = {'jan': 150, 'fev': 100, 'mar': 190}\n",
        "print(list(vendas_mes.values()))\n",
        "\n",
        "_________________________________________________________________________________________________\n",
        "'''Modificar itens no dicionario'''\n",
        "dicionario[chave_ja_existente] = valor\n",
        "\n",
        "_________________________________________________________________________________________________\n",
        "'''Remover itens no dicionario'''\n",
        "## CUIDADO para não remover o dicionario inteiro\n",
        "del dicionario[chave] #exclui item\n",
        "#ou   .pop\n",
        "valor = dicionario.pop(chave) #tira o item e armazena numa variavel p caso precise\n",
        "##ex:\n",
        "vendas_mes = {'jan': 150, 'fev': 100, 'mar': 190}\n",
        "vendas_fev = vendas_mes.pop('fev') #retira o fevereiro do dicionário ao mesmo tempo que armazena o valor dele na variável\n",
        "print(vendas_mes)\n",
        "print(vendas_fev)\n",
        "\n",
        "#ou    .popitem()\n",
        "valor = dicionario.popitem()  #retira o último item add no dicionário ao mesmo tempo que armazena o item(chave, valor) dele na variável\n",
        "##ex:\n",
        "vendas_mes = {'jan': 150, 'fev': 100, 'mar': 190}\n",
        "vendas_ult = vendas_mes.popitem() \n",
        "print(vendas_mes)\n",
        "print(vendas_ult)\n",
        "\n",
        "#ou  .clear()\n",
        "dicionario.clear() #limpa todos os itens do dicionario sem apagar o dicionario\n",
        "##ex:\n",
        "vendas_mes = {'jan': 150, 'fev': 100, 'mar': 190}\n",
        "vendas_mes.clear()\n",
        "print(vendas_mes)\n",
        "\n",
        "________________________________________________________________________________________________\n",
        "'''.sort()      #Colocar em ordem alfabetica'''\n",
        "lista_chave.sort()\n"
      ],
      "metadata": {
        "id": "ZEVdpwEhDCqW"
      },
      "execution_count": null,
      "outputs": []
    },
    {
      "cell_type": "code",
      "source": [
        "'''add -> adiciona um item no set'''\n",
        "meu_set = {'iphone', 'macbook', 'ipad'}\n",
        "meu_set.add('airpod')\n",
        "print(meu_set)\n",
        "\n",
        "'''remove -> retira um item de um set'''\n",
        "meu_set = {'iphone', 'macbook', 'ipad'}\n",
        "meu_set.remove('iphone')\n",
        "print(meu_set)\n",
        "\n",
        "'''clear -> retira todos os itens de um set'''\n",
        "meu_set = {'iphone', 'macbook', 'ipad'}\n",
        "meu_set.clear()\n",
        "print(meu_set)\n",
        "\n",
        "'''union -> junta as informações de 2 sets. Se houver algum valor duplicado, ele constará apenas 1 vez no set final'''\n",
        "produtos = {'iphone', 'macbook', 'ipad'}\n",
        "lancamentos = {'airpod', 'apple watch', 'ipod', 'ipad'}\n",
        "todos_produtos = produtos.union(lancamentos)\n",
        "print(todos_produtos)\n",
        "\n",
        "'''intersection -> pega apenas as informações que existem nos 2 sets ao mesmo tempo'''\n",
        "produtos = {'iphone', 'macbook', 'ipad'}\n",
        "lancamentos = {'airpod', 'apple watch', 'ipod', 'ipad'}\n",
        "intersecao = produtos.intersection(lancamentos)\n",
        "print(intersecao)\n",
        "\n",
        "'''difference -> retorna todas as informações de um set que não fazem parte de outro set'''\n",
        "produtos = {'iphone', 'macbook', 'ipad'}\n",
        "lancamentos = {'airpod', 'apple watch', 'ipod', 'ipad'}\n",
        "produtos_nao_lancamentos = produtos.difference(lancamentos)\n",
        "print(produtos_nao_lancamentos) #repare que ipad foi retirado do resultado porque ele estava contido no set de lançamentos"
      ],
      "metadata": {
        "id": "M4o9wxMzDg_Z"
      },
      "execution_count": null,
      "outputs": []
    },
    {
      "cell_type": "code",
      "source": [
        "##ex:\n",
        "cpf = input('Digite cpf ')\n",
        "\n",
        "#Exemplo mais complexo\n",
        "cpf = input('Insira CPF ')\n",
        "\n",
        "#Tratar CPF para tirar pontos, traços e espaços se houver\n",
        "cpf = cpf.strip()\n",
        "cpf = cpf.replace('.','')\n",
        "cpf = cpf.replace('-','')\n",
        "\n",
        "if len(cpf) == 11 and cpf.isnumeric():\n",
        "  print(cpf)\n",
        "else:\n",
        "  print('insira infos corretamente')"
      ],
      "metadata": {
        "id": "CEtNieaICvO8"
      },
      "execution_count": null,
      "outputs": []
    },
    {
      "cell_type": "code",
      "execution_count": null,
      "metadata": {
        "id": "jq4p2H8vHWq4"
      },
      "outputs": [],
      "source": [
        "meta = 50000\n",
        "qnt_vendida = 65123\n",
        "\n",
        "if qnt_vendida > meta:\n",
        "  prod = qnt_vendida - meta\n",
        "  print('Batemos a meta. Vendemos {} produtos a mais que a meta'.format(prod))\n",
        "else:\n",
        "    prod2 = qnt_vendida - meta\n",
        "    print('Não batemos a meta. Vendemos {} produtos a menos que a meta'.format(prod2))"
      ]
    },
    {
      "cell_type": "code",
      "source": [
        "meta = 0.05\n",
        "taxa = 0\n",
        "rendimento = 0.5\n",
        "\n",
        "if rendimento > meta:\n",
        "  if rendimento > 0.2:\n",
        "    taxa = 0.04\n",
        "    print('A taxa foi de {:.0%}'.format(taxa))\n",
        "  else:\n",
        "    taxa = 0.02\n",
        "    print('A taxa foi de {:.0%}'.format(taxa))\n",
        "else:\n",
        "  taxa = 0\n",
        "  print('A taxa foi de {:.0%}'.format(taxa))"
      ],
      "metadata": {
        "id": "e0xJpJIRIDFl"
      },
      "execution_count": null,
      "outputs": []
    },
    {
      "cell_type": "code",
      "source": [
        "meta = 20000\n",
        "vendeu = 25000\n",
        "\n",
        "if vendeu > meta:\n",
        "  bonus = vendeu * 0.03\n",
        "  print('Bateu a meta, o bonus foi de R${:.0f}'.format(bonus))\n",
        "elif vendeu > meta * 2:\n",
        "  bonus = vendeu * 0.07\n",
        "  print('Dobrou a meta, o bonus foi de R${:.0f}'.format(bonus))\n",
        "else:\n",
        "  faltou = meta - vendeu\n",
        "  print('Não bateu a meta, faltou R${:.0f} para bater'.format(faltou))"
      ],
      "metadata": {
        "id": "lXPqlZB3LNAB"
      },
      "execution_count": null,
      "outputs": []
    },
    {
      "cell_type": "code",
      "source": [
        "meta = 1000\n",
        "Ana = 900\n",
        "Barbara = 1500\n",
        "Carol = 2000\n",
        "\n",
        "if Ana >= meta:\n",
        "  print('Ana bateu a meta e recebeu {} de bonus'.format(Ana * 0.1))\n",
        "else:\n",
        "  print('Ana não bateu a meta')\n",
        "\n",
        "if Barbara >= meta:\n",
        "  print('Barbara bateu a meta e recebeu {} de bonus'.format(Barbara * 0.1))\n",
        "else:\n",
        "  print('Barbara não bateu a meta')\n",
        "\n",
        "if Carol >= meta:\n",
        "  print('Carol bateu a meta e recebeu {} de bonus'.format(Carol * 0.1))\n",
        "else:\n",
        "  print('Carol não bateu a meta')\n"
      ],
      "metadata": {
        "id": "oZAudwY9Nn_U"
      },
      "execution_count": null,
      "outputs": []
    },
    {
      "cell_type": "code",
      "source": [
        "meta = 1000\n",
        "Ana = 900\n",
        "Barbara = 1500\n",
        "Carol = 2000\n",
        "\n",
        "#If\n",
        "if Ana >= meta:\n",
        "  if Ana >= meta*2:\n",
        "    print('Ana bateu a meta e recebeu {} de bonus'.format(Ana * 0.15))\n",
        "  else:\n",
        "    print('Ana dobrou a meta e recebeu {} de bonus'.format(Ana * 0.1))\n",
        "else:\n",
        "  print('Ana não bateu a meta')\n",
        "\n",
        "if Barbara >= meta:\n",
        "  if Barbara >= meta*2:\n",
        "    print('Barbara bateu a meta e recebeu {} de bonus'.format(Barbara * 0.15))\n",
        "  else:\n",
        "    print('Barbara dobrou a meta e recebeu {} de bonus'.format(Barbara * 0.1))\n",
        "else:\n",
        "  print('Barbara não bateu a meta')\n",
        "\n",
        "if Carol >= meta:\n",
        "  if Carol >= meta*2:\n",
        "    print('Carol bateu a meta e recebeu {} de bonus'.format(Carol * 0.15))\n",
        "  else:\n",
        "    print('Carol dobrou a meta e recebeu {} de bonus'.format(Carol * 0.1))\n",
        "else:\n",
        "  print('Carol não bateu a meta')\n",
        "\n",
        "\n",
        "#Elif\n",
        "if Ana >= meta*2:\n",
        "  print('Ana bateu a meta e recebeu {} de bonus'.format(Ana * 0.15))\n",
        "elif Ana >= meta:\n",
        "  print('Ana dobrou a meta e recebeu {} de bonus'.format(Ana * 0.1))\n",
        "else:\n",
        "  print('Ana não bateu a meta')\n",
        "\n",
        "if Barbara >= meta*2:\n",
        "  print('Barbara bateu a meta e recebeu {} de bonus'.format(Barbara * 0.15))\n",
        "elif Barbara >= meta:\n",
        "  print('Barbara dobrou a meta e recebeu {} de bonus'.format(Barbara * 0.1))\n",
        "else:\n",
        "  print('Barbara não bateu a meta')\n",
        "\n",
        "if Carol >= meta*2:\n",
        "  print('Carol bateu a meta e recebeu {} de bonus'.format(Carol * 0.15))\n",
        "elif Carol >= meta:\n",
        "  print('Carol dobrou a meta e recebeu {} de bonus'.format(Carol * 0.1))\n",
        "else:\n",
        "  print('Carol não bateu a meta')"
      ],
      "metadata": {
        "id": "Cjc79C4aRcWG"
      },
      "execution_count": null,
      "outputs": []
    },
    {
      "cell_type": "code",
      "source": [
        "meta = 1000\n",
        "ana = 1500\n",
        "loja = 40000\n",
        "meta_loja = 50000\n",
        "\n",
        "if ana >= meta and loja >= meta_loja:\n",
        "  print('Ana bateu sua meta com, e teve {} de bonus, assim como a loja também bateu com {} vendas'.format(ana * 0.03,loja))\n",
        "elif ana >= meta and loja < meta_loja:\n",
        "  print('Ana bateu sua meta com {} vendas, mas a loja NÃO bateu, com {} vendas'.format(ana,loja))\n",
        "elif ana < meta and loja >= meta_loja:\n",
        "  print('Ana NÃO bateu a meta, com {} vendas, mas a loja também bateu com {} vendas'.format(ana,loja))\n",
        "else:\n",
        "  print('Nem Ana nem a Loja bateram a meta')\n"
      ],
      "metadata": {
        "id": "-Tul3N-UTQCY"
      },
      "execution_count": null,
      "outputs": []
    },
    {
      "cell_type": "code",
      "source": [
        "meta = 1000\n",
        "ana = 1500\n",
        "loja = 40000\n",
        "meta_loja = 50000\n",
        "nota = 9\n",
        "meta_nota = 9\n",
        "\n",
        "if ana >= meta and loja >= meta_loja or (ana >= meta or nota >= meta_nota):\n",
        "  print('Ana recebeu {} de bonus'.format(ana * 0.03))\n",
        "elif ana >= meta and loja < meta_loja:\n",
        "  print('Ana bateu sua meta com {} vendas, mas a loja NÃO bateu, com {} vendas'.format(ana,loja))\n",
        "elif ana < meta and loja >= meta_loja:\n",
        "  print('Ana NÃO bateu a meta, com {} vendas, mas a loja também bateu com {} vendas'.format(ana,loja))\n",
        "else:\n",
        "  print('Nem Ana nem a Loja bateram a meta')\n"
      ],
      "metadata": {
        "id": "62pBQ_9utSs-"
      },
      "execution_count": null,
      "outputs": []
    },
    {
      "cell_type": "code",
      "source": [
        "faturamento = input('Qual o faturamento da loja? ')\n",
        "custo = input('Qual foi o gasto da loja? ')\n",
        "\n",
        "if faturamento and custo:\n",
        "  lucro = int(faturamento) - int(custo)\n",
        "  print('O faturamento foi de {}'.format(lucro))\n",
        "else: \n",
        "  print('preencha!')\n"
      ],
      "metadata": {
        "id": "ApSadwXpurfQ"
      },
      "execution_count": null,
      "outputs": []
    },
    {
      "cell_type": "code",
      "source": [
        "alimentos = 50\n",
        "bebidas = 75\n",
        "limpezas = 30\n",
        "\n",
        "intro = input('Preencha a categoria escrevendo: bebida, alimento ou limpeza. Digite OK')\n",
        "produto = input('Qual o produto? ')\n",
        "categoria = input('Qual a categoria? ')\n",
        "estoque = int(input('Quantos tem no estoque? '))\n",
        "\n",
        "if produto and categoria and estoque:\n",
        "  if categoria == 'bebida':\n",
        "    if estoque < bebidas:\n",
        "      print('Tem pouco {}'.format(produto))\n",
        "  if categoria == 'alimento':\n",
        "    if estoque < alimentos:\n",
        "      print('Tem pouco {}'.format(produto))\n",
        "  if categoria == 'limpeza':\n",
        "    if estoque < limpezas:\n",
        "      print('Tem pouco {}'.format(produto))\n",
        "else:\n",
        "  print('Preencha tudo!')\n",
        "\n",
        "\n",
        "'''\n",
        "produto = input('Qual o produto?')\n",
        "categoria = input('Qual a categoria do produto?')\n",
        "qtde = int(input('Qual a quantidade atual do produto?'))\n",
        "\n",
        "if produto and categoria and qtde:\n",
        "    qtde = int(qtde)\n",
        "    if categoria == 'bebidas':\n",
        "        if qtde < 75:\n",
        "            print('Solicitar {} à equipe de compras, temos apenas {} unidades em estoque'.format(produto, qtde))\n",
        "    elif categoria == 'limpeza':\n",
        "        if qtde < 30:\n",
        "            print('Solicitar {} à equipe de compras, temos apenas {} unidades em estoque'.format(produto, qtde))\n",
        "    else:\n",
        "        if qtde < 50:\n",
        "            print('Solicitar {} à equipe de compras, temos apenas {} unidades em estoque'.format(produto, qtde))\n",
        "else:\n",
        "    print('Preencha todas as informações')\n",
        "'''\n",
        "\n",
        "\n",
        "'''\n",
        "alimentos = 50\n",
        "bebidas = 75\n",
        "limpeza = 30\n",
        "\n",
        "produto = input('Qual o produto: ')\n",
        "categoria = input('Qual a categoria do produto: ')\n",
        "qtde = int(input('Qual a quantidade atual do produto: '))\n",
        "\n",
        "if produto and categoria and qtde:\n",
        "  qtde = int(qtde)\n",
        "  if categoria == 'bebidas':\n",
        "    if qtde < bebidas:\n",
        "      print('Solicitar {} à equipe de compras, temos apenas {} unidades em estoque'.format(produto, qtde))\n",
        "    else:\n",
        "      print('Estoque de {} computado'.format(produto))\n",
        "  elif categoria == 'limpeza':\n",
        "    if qtde < limpeza:\n",
        "      print('Solicitar {} à equipe de compras, temos apenas {} unidades em estoque'.format(produto, qtde))\n",
        "    else:\n",
        "      print('Estoque de {} computado'.format(produto))\n",
        "  elif categoria == 'alimentos':\n",
        "    if qtde < alimentos:\n",
        "      print('Solicitar {} à equipe de compras, temos apenas {} unidades em estoque'.format(produto, qtde))\n",
        "    else:\n",
        "      print('Estoque de {} computado'.format(produto))\n",
        "else:\n",
        "    print('Preencha todas as informações')\n",
        "'''\n",
        "\n",
        "\n",
        "'''\n",
        "#De uma forma mais complexa mas que permite mais opções na hora de preencher \n",
        "nome_produto = input('Qual o nome do produto? ')\n",
        "categoria = input('Qual a categoria do produto? ')\n",
        "qntd_produto = input('Qual o estoque atual desse produto? ')\n",
        "\n",
        "alimentos = 50\n",
        "bebidas = 75\n",
        "limpeza = 30\n",
        "\n",
        "if nome_produto and categoria and qntd_produto:\n",
        "#If Alimentos\n",
        "    if 'limento' in categoria:# O 'limento' com in permite ao usuário a escrever alimento ou Alimento e no plural ou singular\n",
        "        if int(qntd_produto) > alimentos:#Verfica se o estoque atual é maior que seu estoque minimo\n",
        "            print('O Estoque atual do produto {} está acima do seu estoque mínimo, atualmente temos {} em estoque'.format(nome_produto,qntd_produto))\n",
        "        elif int(qntd_produto) == alimentos:#Verfica se o estoque atual é igual ao seu estoque minimo\n",
        "            print('O Estoque atual do produto {} chegou a o estoque mínimo, atualmente temos {} em estoque, é recomendado comprar mais'.format(nome_produto,qntd_produto))\n",
        "        else: #se o estoque minimo do produto não é nem maior nem igual oq estoque minimo então...\n",
        "            print('Solicitar {} à equipe de compras, temos apenas {} em estoque'.format(nome_produto,qntd_produto))\n",
        "\n",
        "##############\n",
        "#If Bebidas\n",
        "\n",
        "    elif 'ebida' in categoria:# O 'ebida' com in permite ao usuário a escrever Bebida ou bebida e no plural ou singular\n",
        "        if int(qntd_produto) > bebidas:#Verfica se o estoque atual é maior que seu estoque minimo\n",
        "            print('O Estoque atual do produto {} está acima do seu estoque mínimo, atualmente temos {} em estoque'.format(nome_produto,qntd_produto))\n",
        "        elif int(qntd_produto) == bebidas:#Verfica se o estoque atual é igual ao seu estoque minimo\n",
        "            print('O Estoque atual do produto {} chegou a o estoque mínimo, atualmente temos {} em estoque, é recomendado comprar mais'.format(nome_produto,qntd_produto))\n",
        "        else:#se o estoque minimo do produto não é nem maior nem igual oq estoque minimo então...\n",
        "            print('Solicitar {} à equipe de compras, temos apenas {} em estoque'.format(nome_produto,qntd_produto))\n",
        "\n",
        "##############\n",
        "#If Limpezas\n",
        "\n",
        "    elif 'impeza' in categoria:\n",
        "        if int(qntd_produto) > limpeza:#Verfica se o estoque atual é maior que seu estoque minimo\n",
        "            print('O Estoque atual do produto {} está acima do seu estoque mínimo, atualmente temos {} em estoque'.format(nome_produto,qntd_produto))\n",
        "        elif int(qntd_produto) == limpeza:#Verfica se o estoque atual é igual ao seu estoque minimo\n",
        "            print('O Estoque atual do produto {} chegou a o estoque mínimo, atualmente temos {} em estoque, é recomendado comprar mais'.format(nome_produto,qntd_produto))\n",
        "        else:#se o estoque minimo do produto não é nem maior nem igual oq estoque minimo então...\n",
        "            print('Solicitar {} à equipe de compras, temos apenas {} em estoque'.format(nome_produto,qntd_produto))\n",
        "\n",
        "###############\n",
        "else:#Se algum dos inputs estiverem vazios então...\n",
        "    if nome_produto == '': #Verifica se o imput vazio é o nome_produto\n",
        "        print('Preencha o nome do produto corretamente')\n",
        "    if categoria == '': #Verifica se o imput vazio é o categoria\n",
        "        print('Preencha a categoria do produto corretamente')\n",
        "    if qntd_produto == '': #Verifica se o imput vazio é o qntd_produto\n",
        "        print('Preencha o estoque atual do produto corretamente')\n",
        "'''\n"
      ],
      "metadata": {
        "id": "7_d0wrdMxsfV"
      },
      "execution_count": null,
      "outputs": []
    },
    {
      "cell_type": "code",
      "source": [
        "alimentos = 50\n",
        "bebidas = 75\n",
        "limpezas = 30\n",
        "\n",
        "intro = input('Preencha a categoria escrevendo: bebida, alimento ou limpeza. Digite OK')\n",
        "produto = input('Qual o produto? ')\n",
        "categoria = input('Qual a categoria? ')\n",
        "estoque = int(input('Quantos tem no estoque? '))\n",
        "\n",
        "if produto and categoria and estoque:\n",
        "  if categoria == 'bebida':\n",
        "    if estoque < bebidas:\n",
        "      print('Tem pouco {}'.format(produto))\n",
        "  elif categoria == 'alimento':\n",
        "    if estoque < alimentos:\n",
        "      print('Tem pouco {}'.format(produto))\n",
        "  else:\n",
        "    if estoque < limpezas:\n",
        "      print('Tem pouco {}'.format(produto))\n",
        "else:\n",
        "  print('Preencha tudo!')"
      ],
      "metadata": {
        "id": "FjenxDbu1RKu"
      },
      "execution_count": null,
      "outputs": []
    },
    {
      "cell_type": "code",
      "source": [
        "cpf = input('Insira CPF ')\n",
        "\n",
        "#Tratar CPF para tirar pontos, traços e espaços se houver\n",
        "cpf = cpf.strip()\n",
        "cpf = cpf.replace('.','')\n",
        "cpf = cpf.replace('-','')\n",
        "\n",
        "if len(cpf) == 11 and cpf.isnumeric():\n",
        "  print(cpf)\n",
        "else:\n",
        "  print('insira infos corretamente')"
      ],
      "metadata": {
        "id": "__osj3cX4dxx"
      },
      "execution_count": null,
      "outputs": []
    },
    {
      "cell_type": "code",
      "source": [
        "faturamento = 1000\n",
        "custo = 500\n",
        "lucro = faturamento - custo\n",
        "type (faturamento)\n",
        "print (\"o faturamento da loja foi \" + str(faturamento))\n",
        "print (\"o custo da loja foi \" + str(custo))\n",
        "print (\"assim, o lucro da loja foi de \" +str(lucro) + \" reais\")"
      ],
      "metadata": {
        "id": "IaKwysb4AcSh"
      },
      "execution_count": null,
      "outputs": []
    },
    {
      "cell_type": "code",
      "source": [
        "faturamento = 1000\n",
        "custo = 500\n",
        "lucro = faturamento - custo\n",
        "type (faturamento)\n",
        "print (\"o faturamento da loja foi \" + str(faturamento) + \". O custo da loja foi \" + str(custo) + \". Assim, o lucro da loja foi de \" +str(lucro) + \" reais\")"
      ],
      "metadata": {
        "id": "5zcZIbBPIdpQ"
      },
      "execution_count": null,
      "outputs": []
    },
    {
      "cell_type": "code",
      "source": [
        "#FORMAT\n",
        "faturamento = 1000\n",
        "custo = 500\n",
        "lucro = faturamento - custo\n",
        "\n",
        "print (\"O faturamento da loja foi {}. O custo da loja foi {}. Assim, o lucro da loja foi {}\". format(faturamento, custo, lucro))"
      ],
      "metadata": {
        "id": "_C0I9kg3Ieby"
      },
      "execution_count": null,
      "outputs": []
    },
    {
      "cell_type": "code",
      "source": [
        "produtos = ['coca', 'pepsi', 'guarana', 'soda', 'mentos', 'energético', 'bolo']\n",
        "qnt = ['1500','2011', '1231', '3434', '3521', '3412', '1232']\n",
        "\n",
        "tamanho = len(produtos)\n",
        "\n",
        "for item in range(tamanho):\n",
        "  print('Temos {} unidades de {}'.format(qnt[item], produtos[item]))\n"
      ],
      "metadata": {
        "id": "a9osLH59a62w"
      },
      "execution_count": null,
      "outputs": []
    },
    {
      "cell_type": "code",
      "source": [
        "vendas = [1200, 300, 800, 1500, 1900, 2750, 400, 20, 23, 70, 90, 80, 1100, 999, 900, 880, 870, 50, 1111, 120, 300, 450, 800]\n",
        "meta = 1000\n",
        "\n",
        "qnt_bateu_meta = 0\n",
        "\n",
        "for item in vendas:\n",
        "  if item >= meta:\n",
        "    qnt_bateu_meta += 1\n",
        "\n",
        "qnt_funcionario = len(vendas)\n",
        "\n",
        "print('{:.0%} funcionarios bateram a meta'.format(qnt_bateu_meta / qnt_funcionario))"
      ],
      "metadata": {
        "colab": {
          "base_uri": "https://localhost:8080/"
        },
        "id": "2cuYfYjRxfCo",
        "outputId": "606f68d6-d0cf-458c-bcf0-2094a59ec1cd"
      },
      "execution_count": null,
      "outputs": [
        {
          "output_type": "stream",
          "name": "stdout",
          "text": [
            "26% funcionarios bateram a meta\n"
          ]
        }
      ]
    },
    {
      "cell_type": "code",
      "source": [
        "estoque = [1200, 300, 800, 1500, 1900, 2750, 400, 20, 23, 70, 90, 80, 1100, 999, 900, 880, 870, 50, 1111, 120, 300, 450, 800]\n",
        "produtos = ['coca', 'pepsi', 'guarana', 'skol', 'brahma', 'agua', 'del valle', 'dolly', 'red bull', 'cachaça', 'vinho tinto', 'vodka', 'vinho branco', 'tequila', 'champagne', 'gin', 'guaracamp', 'matte', 'leite de castanha', 'leite', 'jurupinga', 'sprite', 'fanta']\n",
        "nivel_minimo = 50\n",
        "\n",
        "for i, qtde in enumerate(estoque):\n",
        "    if qtde < nivel_minimo:\n",
        "        print('{} está abaixo do nível mínimo. Temos apenas {} unidades'.format(produtos[i], qtde))\n"
      ],
      "metadata": {
        "colab": {
          "base_uri": "https://localhost:8080/"
        },
        "id": "eOOuAbE63124",
        "outputId": "ce9dff64-cfca-4adc-ac5a-0820e1773155"
      },
      "execution_count": null,
      "outputs": [
        {
          "output_type": "stream",
          "name": "stdout",
          "text": [
            "dolly está abaixo do nível mínimo. Temos apenas 20 unidades\n",
            "red bull está abaixo do nível mínimo. Temos apenas 23 unidades\n"
          ]
        }
      ]
    },
    {
      "cell_type": "code",
      "source": [
        "'''FOR no dicionario'''\n",
        "for chave in dicionario:\n",
        "\n",
        "## Se quiser saber a chave e valor\n",
        "for chave in dicionario:\n",
        "  print('A {} tem {} qnt'.format(chave, dicionario[chave]))\n",
        "\n",
        "## Para somar valores de uma variavel, supondo que tenha +1 chave com nome igual\n",
        "### ex: notebook asus, notebook mac, notebook samsung\n",
        "valor_notebook = 0  \n",
        "\n",
        "for chave in dicionario:\n",
        "  if 'notebook' in chave:     #code entende que é pra pegar qlq chave com essa palavra, msm q tiver algo antes/dps\n",
        "    valor_notebook = valor_notebook + dicionario[chave]   #ou valor_notebook += dicionario[chave]\n",
        "print(valor_notebook)"
      ],
      "metadata": {
        "id": "RGTm_D1gDM3R"
      },
      "execution_count": null,
      "outputs": []
    },
    {
      "cell_type": "code",
      "source": [
        "#ou a partir de 2 listas\n",
        "produto = ['a', 'b', 'c', 'd']\n",
        "vendas = [10, 20, 30, 40]\n",
        "\n",
        "lista_tuplas = zip(produto, vendas)\n",
        "for item in lista_tuplas:\n",
        "  print(item)\n",
        "\n",
        "print('_' * 20)     #criar linha\n",
        "\n",
        "#para criar o dicionario\n",
        "lista_tuplas = zip(produto, vendas)\n",
        "dicionario = dict(lista_tuplas)\n",
        "print(dicionario)"
      ],
      "metadata": {
        "id": "OK_MpYBEDZ0d"
      },
      "execution_count": null,
      "outputs": []
    },
    {
      "cell_type": "code",
      "source": [
        "'''\n",
        "1. Criando um Registro de Hóspedes\n",
        "Digamos que você está criando o sistema para registrar a chegada de hóspedes em um hotel. No hotel, os hóspedes podem ter quartos com 1, 2, 3 e 4 pessoas. Seu sistema deve conseguir:\n",
        "- Identificar quantas pessoas o hóspede que acabou de chegar vai ter no quarto (perguntando por meio de input)\n",
        "- De acordo com a quantidade de pessoas do hóspede, ele deve fazer um for para perguntar o cpf e o nome de cada pessoa, a fim de registrá-la no quarto (2 inputs para cada pessoa, 1 para o cpf e outro para o nome)\n",
        "- O seu programa então deve gerar uma lista com todas as pessoas que ficarão no quarto em que cada item dessa lista é o nome da pessoa e o cpf da pessoa, assim:\n",
        "- Para simplificar, não vamos nos preocupar com possibilidades de \"tentar colocar mais de 1 hóspede, digitar o cpf errado, etc. Nosso objetivo é treinar a criação de uma rotina de cadastro\n",
        "'''\n",
        "\n",
        "qtde_pessoas = int(input('Quantas pessoas terão no quarto?'))\n",
        "quarto = []\n",
        "\n",
        "for i in range(qtde_pessoas):\n",
        "    nome = input('Qual o nome?')\n",
        "    cpf = input('Qual o cpf?')\n",
        "    hospede = [nome, 'cpf:{}'.format(cpf)]\n",
        "    quarto.append(hospede)\n",
        "    \n",
        "print(quarto)"
      ],
      "metadata": {
        "id": "ugbH1bQj6vQh"
      },
      "execution_count": null,
      "outputs": []
    },
    {
      "cell_type": "code",
      "source": [
        "'''\n",
        "2. Análise de Vendas\n",
        "Nesse exercício vamos fazer uma \"análise simples\" de atingimento de Meta.\n",
        "Temos uma lista com os vendedores e os valores de vendas e queremos identificar (printar) quais os vendedores que bateram a meta e qual foi o valor que eles venderam.\n",
        "'''\n",
        "\n",
        "meta = 10000\n",
        "vendas = [\n",
        "    ['João', 15000],\n",
        "    ['Julia', 27000],\n",
        "    ['Marcus', 9900],\n",
        "    ['Maria', 3750],\n",
        "    ['Ana', 10300],\n",
        "    ['Alon', 7870]]\n",
        "    \n",
        "for item in vendas:\n",
        "    if item[1] >= meta:\n",
        "        print('Vendedor {} bateu a meta. Fez {} vendas'.format(item[0], item[1]))\n"
      ],
      "metadata": {
        "id": "d3G_KIFb7Cjl"
      },
      "execution_count": null,
      "outputs": []
    },
    {
      "cell_type": "code",
      "source": [
        "'''\n",
        "3. Comparação com Ano Anterior\n",
        "Digamos que você está analisando as vendas de produtos de um ecommerce e quer identificar quais produtos tiveram no ano de 2020 mais vendas do que no ano de 2019, para reportar isso para a diretoria.\n",
        "Sua resposta pode ser um print de cada produto, qual foi a venda de 2019, a venda de 2020 e o % de crescimento de 2020 para 2019.\n",
        "Lembrando, para calcular o % de crescimento de um produto de um ano para o outro, podemos fazer: (vendas_produto2020/vendas_produto2019 - 1)\n",
        "Dica: lembre do enumerate, ele pode facilitar seu \"for\"\n",
        "'''\n",
        "\n",
        "produtos = ['iphone', 'galaxy', 'ipad', 'tv', 'máquina de café', 'kindle', 'geladeira', 'adega', 'notebook dell', 'notebook hp', 'notebook asus', 'microsoft surface', 'webcam', 'caixa de som', 'microfone', 'câmera canon']\n",
        "vendas2019 = [558147,712350,573823,405252,718654,531580,973139,892292,422760,154753,887061,438508,237467,489705,328311,591120]\n",
        "vendas2020 = [951642,244295,26964,787604,867660,78830,710331,646016,694913,539704,324831,667179,295633,725316,644622,994303]\n",
        "\n",
        "for i, produto in enumerate(produtos):\n",
        "    if vendas2020[i] > vendas2019[i]:\n",
        "        crescimento = vendas2020[i] / vendas2019[i] - 1\n",
        "        print('{} vendeu R${:,} em 2019, R${:,} em 2020 e teve {:.1%} de crescimento'.format(produto, vendas2019[i], vendas2020[i], crescimento))"
      ],
      "metadata": {
        "id": "OChE-icY7KO9"
      },
      "execution_count": null,
      "outputs": []
    },
    {
      "cell_type": "code",
      "source": [
        "vendas = []\n",
        "\n",
        "while True:\n",
        "  produto = input('Qual o produto? ')\n",
        "  if not produto:\n",
        "    break\n",
        "  qnt = int(input('Qual a quantidade? '))\n",
        "  vendas.append([produto, qnt])\n",
        "\n",
        "print(vendas)\n"
      ],
      "metadata": {
        "id": "udcyOXWHdA-2"
      },
      "execution_count": null,
      "outputs": []
    },
    {
      "cell_type": "code",
      "source": [
        "#Tuplas\n",
        "vendas = [('20/08/2020', 'iphone x', 'azul', '128gb', 350, 4000),\n",
        "          ('20/08/2020', 'iphone x', 'prata', '128gb', 1500, 4000),\n",
        "          ('20/08/2020', 'ipad', 'prata', '256gb', 127, 6000),\n",
        "          ('20/08/2020', 'ipad', 'prata', '128gb', 981, 5000),\n",
        "          ('21/08/2020', 'iphone x', 'azul', '128gb', 397, 4000),\n",
        "          ('21/08/2020', 'iphone x', 'prata', '128gb', 1017, 4000),\n",
        "          ('21/08/2020', 'ipad', 'prata', '256gb', 50, 6000),\n",
        "          ('21/08/2020', 'ipad', 'prata', '128gb', 4000, 5000)]\n",
        "\n"
      ],
      "metadata": {
        "id": "648sTXQ3mjIn"
      },
      "execution_count": null,
      "outputs": []
    },
    {
      "cell_type": "code",
      "source": [
        "for item in vendas:\n",
        "  print(item)"
      ],
      "metadata": {
        "colab": {
          "base_uri": "https://localhost:8080/"
        },
        "id": "t0HDbuijoOof",
        "outputId": "c08e7777-c9c8-41c8-a410-b8e5aca37db8"
      },
      "execution_count": null,
      "outputs": [
        {
          "output_type": "stream",
          "name": "stdout",
          "text": [
            "('20/08/2020', 'iphone x', 'azul', '128gb', 350, 4000)\n",
            "('20/08/2020', 'iphone x', 'prata', '128gb', 1500, 4000)\n",
            "('20/08/2020', 'ipad', 'prata', '256gb', 127, 6000)\n",
            "('20/08/2020', 'ipad', 'prata', '128gb', 981, 5000)\n",
            "('21/08/2020', 'iphone x', 'azul', '128gb', 397, 4000)\n",
            "('21/08/2020', 'iphone x', 'prata', '128gb', 1017, 4000)\n",
            "('21/08/2020', 'ipad', 'prata', '256gb', 50, 6000)\n",
            "('21/08/2020', 'ipad', 'prata', '128gb', 4000, 5000)\n"
          ]
        }
      ]
    },
    {
      "cell_type": "code",
      "source": [
        "for item in vendas:\n",
        "  data, produto, cor, gb, unid, valor = item\n",
        "  print(produto)"
      ],
      "metadata": {
        "id": "wW6WcxY7ohix"
      },
      "execution_count": null,
      "outputs": []
    },
    {
      "cell_type": "code",
      "source": [
        "faturamento = 0 #essa linha é importante p poder somar os faturamentos do msm prod\n",
        "\n",
        "for item in vendas:\n",
        "  data, produto, cor, gb, unid, valor = item\n",
        "  if produto == 'iphone x':\n",
        "    faturamento += unid * valor   # o += é p somar os faturamentos\n",
        "\n",
        "print(faturamento)"
      ],
      "metadata": {
        "id": "bdvMzKPIol1w"
      },
      "execution_count": null,
      "outputs": []
    },
    {
      "cell_type": "code",
      "source": [
        "faturamento = 0 #essa linha é importante p poder somar os faturamentos do msm prod\n",
        "\n",
        "for item in vendas:\n",
        "  data, produto, cor, gb, unid, valor = item\n",
        "  if produto == 'iphone x' and data == '20/08/2020':\n",
        "    faturamento += unid * valor   # o += é p somar os faturamentos\n",
        "\n",
        "print('O faturamento da data de 20/08/2020 foi de {}'.format(faturamento))"
      ],
      "metadata": {
        "id": "QNksfMXKpQAQ"
      },
      "execution_count": null,
      "outputs": []
    },
    {
      "cell_type": "code",
      "source": [
        "prod_mais_vendido = ''  #serve para armazenar um valor a variavel enquanto estiver lendo o code\n",
        "qnt_prod_mais_vendido = 0\n",
        "\n",
        "for item in vendas:\n",
        "  data, produto, cor, gb, unid, valor = item\n",
        "  if data == '21/08/2020':\n",
        "    if unid > qnt_prod_mais_vendido:\n",
        "      prod_mais_vendido = produto\n",
        "      qnt_prod_mais_vendido = unid\n",
        "\n",
        "print('{} foi o produto mais vendido com  {} unidades'.format(produto, unid))"
      ],
      "metadata": {
        "id": "OiEeiaUdnjBP"
      },
      "execution_count": null,
      "outputs": []
    },
    {
      "cell_type": "code",
      "source": [
        "prod_mais_vendido = ''  #serve para armazenar um valor a variavel enquanto estiver lendo o code\n",
        "qnt_prod_mais_vendido = 0\n",
        "cor_prod_mais_vendido = ''\n",
        "gb_prod_mais_vendido = ''\n",
        "\n",
        "for item in vendas:\n",
        "  data, produto, cor, gb, unid, valor = item\n",
        "  if data == '21/08/2020':\n",
        "    if unid > qnt_prod_mais_vendido:\n",
        "      prod_mais_vendido = produto\n",
        "      qnt_prod_mais_vendido = unid\n",
        "      cor_prod_mais_vendido = cor\n",
        "      gb_prod_mais_vendido = gb\n",
        "\n",
        "print('{} {} com {} foi o produto mais vendido com  {} unidades'.format(produto, cor, gb, unid))"
      ],
      "metadata": {
        "id": "wYGAevPsrsA0"
      },
      "execution_count": null,
      "outputs": []
    },
    {
      "cell_type": "code",
      "source": [
        "vendas_produtos = [('iphone', 558147, 951642), ('galaxy', 712350, 244295), ('ipad', 573823, 26964), ('tv', 405252, 787604), ('máquina de café', 718654, 867660), ('kindle', 531580, 78830), ('geladeira', 973139, 710331), ('adega', 892292, 646016), ('notebook dell', 422760, 694913), ('notebook hp', 154753, 539704), ('notebook asus', 887061, 324831), ('microsoft surface', 438508, 667179), ('webcam', 237467, 295633), ('caixa de som', 489705, 725316), ('microfone', 328311, 644622), ('câmera canon', 591120, 994303)]\n",
        "\n",
        "#seu código aqui\n",
        "for produto, vendas2019, vendas2020 in vendas_produtos:\n",
        "    if vendas2020 > vendas2019:\n",
        "        crescimento = vendas2020 / vendas2019 - 1\n",
        "        print('{} teve {} vendas em 2019, {} vendas em 2020. Crescimento de {:.1%}'.format(produto, vendas2019, vendas2020, crescimento))"
      ],
      "metadata": {
        "id": "Dcwrk9_asiW3"
      },
      "execution_count": null,
      "outputs": []
    },
    {
      "cell_type": "code",
      "source": [
        "mais_vendidos = {'tecnologia': 'iphone', 'refrigeracao': 'ar consul 12000 btu', 'livros': 'o alquimista', 'eletrodoméstico': 'geladeira', 'lazer': 'prancha surf'}\n",
        "vendas_tecnologia = {'iphone': 15000, 'samsung galaxy': 12000, 'tv samsung': 10000, 'ps5': 14300, 'tablet': 1720, 'ipad': 1000, 'tv philco': 2500, 'notebook hp': 1000, 'notebook dell': 17000, 'notebook asus': 2450}\n",
        "\n"
      ],
      "metadata": {
        "id": "Aj3lTQ_JtcvS"
      },
      "execution_count": null,
      "outputs": []
    },
    {
      "cell_type": "code",
      "source": [
        "qnt_iphone = vendas_tecnologia['iphone']\n",
        "print(qnt_iphone)"
      ],
      "metadata": {
        "id": "zj-z4MBFu7KD"
      },
      "execution_count": null,
      "outputs": []
    },
    {
      "cell_type": "code",
      "source": [
        "livro = mais_vendidos['livros']\n",
        "lazer = mais_vendidos['lazer']\n",
        "\n",
        "print(livro)\n",
        "print(lazer)\n",
        "\n",
        "qnt_note_asus = vendas_tecnologia['notebook asus']\n",
        "\n",
        "print(qnt_prod_mais_vendido) "
      ],
      "metadata": {
        "id": "kGf-TL8lvDar"
      },
      "execution_count": null,
      "outputs": []
    },
    {
      "cell_type": "code",
      "source": [
        "#Dicionario\n",
        "niveis_co2 = {'AC': [325,405,429,486,402],\n",
        "              'AL': [492,495,310,407,388],\n",
        "              'AP': [507,503,368,338,400],\n",
        "              'AM': [429,456,352,377,363],\n",
        "              'BA': [321,508,372,490,412],\n",
        "              'CE': [424,328,425,516,480],\n",
        "              'ES': [449,506,461,337,336],\n",
        "              'GO': [425,460,385,485,460],\n",
        "              'MA': [361,310,344,425,490],\n",
        "              'MT': [358,402,425,386,379],\n",
        "              'MS': [324,357,441,405,427],\n",
        "              'MG': [345,367,391,427,516],\n",
        "              'PA': [479,514,392,493,329],\n",
        "              'PB': [418,499,317,302,476],\n",
        "              'PR': [420,508,419,396,327],\n",
        "              'PE': [404,444,495,320,343],\n",
        "              'PI': [513,513,304,377,475],\n",
        "              'RJ': [502,481,492,502,506],\n",
        "              'RN': [446,437,519,356,317],\n",
        "              'RS': [427,518,459,317,321],\n",
        "              'RO': [517,466,512,326,458],\n",
        "              'RR': [466,495,469,495,310],\n",
        "              'SC': [495,436,382,483,479],\n",
        "              'SP': [495,407,362,389,317],\n",
        "              'SE': [508,351,334,389,418],\n",
        "              'TO': [339,490,304,488,419],\n",
        "              'DF': [376,516,320,310,518],}"
      ],
      "metadata": {
        "id": "fPyCA2Xr1T1A"
      },
      "execution_count": null,
      "outputs": []
    },
    {
      "cell_type": "code",
      "source": [
        "'''\n",
        "Cada estado tem 5 sensores que capta nível de CO2\n",
        "Nível de CO2 é a média de cada um dos 5 sensores\n",
        "media_normal = 350\n",
        "CO2 > 450 -> deve ser avisado que os níveis de CO2 estão mt altos\n",
        "'''\n",
        "\n",
        "for estado in niveis_co2:\n",
        "  qnt_sensor = len(niveis_co2[estado])  #para saber qnts niveis tem\n",
        "  total_co2 = sum(niveis_co2[estado])\n",
        "  media_co2 = total_co2 / qnt_sensor\n",
        "  if media_co2 >= 450:\n",
        "    print('Níveis altos de CO2 em {}'.format(estado))"
      ],
      "metadata": {
        "id": "cZ9xMNloBl-V"
      },
      "execution_count": null,
      "outputs": []
    },
    {
      "cell_type": "code",
      "source": [
        "def cadastrar_prod():\n",
        "  prod = input('Qual o produto? ')\n",
        "  prod = prod.casefold()       #deixar minusculo\n",
        "  prod = prod.strip()          #remove espaços antes e depois\n",
        "  return prod                  #\n",
        "\n",
        "prod = cadastrar_prod()\n",
        "print('O produto é {}'.format(prod))"
      ],
      "metadata": {
        "id": "BJDibhHQC4vC"
      },
      "execution_count": null,
      "outputs": []
    },
    {
      "cell_type": "code",
      "source": [
        "def somar (n1, n2, n3):\n",
        "  return n1 + n2 + n3\n",
        "\n",
        "soma = somar (324, 234, 350)\n",
        "print(soma)"
      ],
      "metadata": {
        "id": "oWn-EhHtC8Cb"
      },
      "execution_count": null,
      "outputs": []
    },
    {
      "cell_type": "code",
      "source": [
        "'''\n",
        "ex: tenho vários codigos de produtos, e quero printar os que forem alcool (prod com BEB)\n",
        "Pra isso preciso de um código que percorra minha lista, identifique os BEB e pegue eles\n",
        "Fazer uma function para definir que BEB é alcool antes ajuda \n",
        "'''\n",
        "def categ(bebida, cod_categ):\n",
        "  bebida = bebida.upper()     #tudo maiusculo\n",
        "  if cod_categ in bebida:\n",
        "    return True\n",
        "  else:\n",
        "    return False\n",
        "\n",
        "prods = ['beb46275','TFA23962','TFA64715','TFA69555','TFA56743','BSA45510','TFA44968','CAR75448','CAR23596','CAR13490','BEB21365','BEB31623','BSA62419','BEB73344','TFA20079','BEB80694','BSA11769','BEB19495','TFA14792','TFA78043','BSA33484','BEB97471','BEB62362','TFA27311','TFA17715','BEB85146','BEB48898','BEB79496','CAR38417','TFA19947','TFA58799','CAR94811','BSA59251','BEB15385','BEB24213','BEB56262','BSA96915','CAR53454','BEB75073']\n",
        "\n",
        "for prod in prods:\n",
        "  if categ(prod, 'BSA'):      #o que ta dentro do () tem que estar na msm ordem do () da def na function\n",
        "    print('{} não é alcool'.format(prod))\n",
        "  elif categ(prod, 'BEB'):\n",
        "    print('{} é alcool'.format(prod))\n",
        "\n",
        "'''\n",
        "#outra forma de colocar as variaveis na () é:\n",
        "for prod in prods:\n",
        "  if categ(bebida = prod, cod_categ = 'BSA'):\n",
        "    print('{} não é alcool'.format(prod))\n",
        "  elif categ(bebida = prod, cod_categ = 'BEB'):\n",
        "    print('{} é alcool'.format(prod))\n",
        "'''"
      ],
      "metadata": {
        "id": "XCSQFSZln4f_"
      },
      "execution_count": null,
      "outputs": []
    },
    {
      "cell_type": "code",
      "source": [
        "#Function para calcular % da Carga Tributária que é aplicada em um prod\n",
        "preco = 1500\n",
        "custo = 400\n",
        "lucro = 785\n",
        "\n",
        "def carga_trib(p, c, l):    #p de preço, c de custo e l de lucro\n",
        "  imposto = p - c - l\n",
        "  carga = imposto / p\n",
        "  return carga\n",
        "\n",
        "print('A carga foi de {:.1%}'.format(carga_trib(preco, custo, lucro)))"
      ],
      "metadata": {
        "colab": {
          "base_uri": "https://localhost:8080/"
        },
        "id": "cBCzC4KVmYTe",
        "outputId": "9af1cbe8-aa41-4ab6-ab48-702c43259944"
      },
      "execution_count": null,
      "outputs": [
        {
          "output_type": "stream",
          "name": "stdout",
          "text": [
            "A carga foi de 21.0%\n"
          ]
        }
      ]
    },
    {
      "cell_type": "code",
      "source": [
        "#Posso padronizar coisas com def\n",
        "##ex padronizar os titulos da colunas do repositorio\n",
        "\n",
        "def padronizar_colunas(lista_col, padrao='m'):    #O 'm' ou 'M' é p poder alterar de tudo minusculo ou maiusculo, criamos o code abaixo\n",
        "  for i, item in enumerate(lista_col):   #colocamos o enumareate para que no final do code o 'lista[i] = item' possa funcionar\n",
        "    item = item.replace('  ', ' ')    #atribuir o code a variavel item permite q o foi feito fique na variavel, e nos prox code atue em cima do que ja foi modificado\n",
        "    item = item.strip()\n",
        "    if padrao == 'm':\n",
        "      item = item.casefold()\n",
        "    elif padrao == 'M':\n",
        "      item = item.upper()\n",
        "    lista_col[i] = item\n",
        "  return lista_col\n",
        "\n",
        "colunas = ['ID', ' Data', 'Exame  ', 'ValoR rEfereNcia']\n",
        "print(padronizar_colunas(colunas, 'm'))"
      ],
      "metadata": {
        "id": "OKNVMks7BOLF"
      },
      "execution_count": null,
      "outputs": []
    },
    {
      "cell_type": "code",
      "source": [
        "'''\n",
        "função q calcula % de stockout de ma empresa. \n",
        "stockout = vendas perdidas por estoque / (vendas concluidas + vendar perdidas por estoque)\n",
        "stockout é dada em valor total de $ e não qnt de venda\n",
        "na lista de vendas abaixo, temos qual foi a venda (1 2 3...), o valor, se foi vendida ou não (e pq)\n",
        "'''\n",
        "vendas = {'VE0001': (9868,'Concluído',''),'VE0002': (9642,'Concluído',''),'VE0003': (6007,'Concluído',''),'VE0004': (15562,'Concluído',''),'VE0005': (18752,'Cancelado','Estoque em Falta'),'VE0006': (16358,'Cancelado','Estoque em Falta'),'VE0007': (17045,'Concluído',''),'VE0008': (12230,'Concluído',''),'VE0009': (6747,'Concluído',''),'VE0010': (15114,'Concluído',''),'VE0011': (12497,'Concluído',''),'VE0012': (6001,'Concluído',''),'VE0013': (16227,'Cancelado','Cancelada pelo Cliente'),'VE0014': (16150,'Concluído',''),'VE0015': (17705,'Concluído',''),'VE0016': (9978,'Concluído',''),'VE0017': (4266,'Concluído',''),'VE0018': (11531,'Concluído',''),'VE0019': (10352,'Cancelado','Cancelada pelo Cliente'),'VE0020': (16544,'Concluído',''),'VE0021': (15488,'Concluído',''),'VE0022': (15828,'Concluído',''),'VE0023': (1218,'Concluído',''),'VE0024': (11560,'Concluído',''),'VE0025': (14220,'Concluído',''),'VE0026': (17839,'Concluído',''),'VE0027': (4050,'Concluído',''),'VE0028': (7594,'Cancelado','Estoque em Falta'),'VE0029': (19586,'Concluído',''),'VE0030': (8453,'Concluído',''),'VE0031': (3589,'Concluído',''),'VE0032': (13472,'Cancelado','Cancelada pelo Cliente'),'VE0033': (16994,'Concluído',''),'VE0034': (2139,'Concluído',''),'VE0035': (10173,'Concluído',''),'VE0036': (17784,'Cancelado','Estoque em Falta'),'VE0037': (12214,'Concluído',''),'VE0038': (5878,'Concluído',''),'VE0039': (2622,'Concluído',''),'VE0040': (9765,'Concluído',''),'VE0041': (8872,'Concluído',''),'VE0042': (16543,'Concluído',''),'VE0043': (8994,'Concluído',''),'VE0044': (4332,'Concluído',''),'VE0045': (19679,'Concluído',''),'VE0046': (14968,'Concluído',''),'VE0047': (6352,'Concluído',''),'VE0048': (11461,'Concluído',''),'VE0049': (5285,'Concluído',''),'VE0050': (11639,'Concluído',''),'VE0051': (6023,'Concluído',''),'VE0052': (4943,'Concluído',''),'VE0053': (5654,'Concluído',''),'VE0054': (11734,'Concluído',''),'VE0055': (2742,'Concluído',''),'VE0056': (5380,'Cancelado','Estoque em Falta'),'VE0057': (5578,'Concluído',''),'VE0058': (1897,'Concluído',''),'VE0059': (7857,'Concluído',''),'VE0060': (4472,'Concluído',''),'VE0061': (19874,'Concluído',''),'VE0062': (13323,'Cancelado','Cancelada pelo Cliente'),'VE0063': (5821,'Concluído',''),'VE0064': (4410,'Concluído',''),'VE0065': (16676,'Concluído',''),'VE0066': (10577,'Concluído',''),'VE0067': (10627,'Concluído',''),'VE0068': (1987,'Concluído',''),'VE0069': (13197,'Concluído',''),'VE0070': (15063,'Concluído',''),'VE0071': (14363,'Concluído',''),'VE0072': (10452,'Concluído',''),'VE0073': (15376,'Concluído',''),'VE0074': (4661,'Concluído',''),'VE0075': (13287,'Concluído',''),'VE0076': (8278,'Concluído',''),'VE0077': (7134,'Concluído',''),'VE0078': (16568,'Concluído',''),'VE0079': (17732,'Concluído',''),'VE0080': (5127,'Concluído',''),'VE0081': (4582,'Concluído',''),'VE0082': (14804,'Cancelado','Cancelada pelo Cliente'),'VE0083': (12362,'Concluído',''),'VE0084': (1148,'Concluído',''),'VE0085': (14018,'Concluído',''),'VE0086': (15891,'Concluído',''),'VE0087': (4517,'Concluído',''),'VE0088': (1770,'Concluído',''),'VE0089': (14926,'Concluído',''),'VE0090': (13627,'Concluído',''),'VE0091': (3047,'Concluído',''),'VE0092': (13924,'Concluído',''),'VE0093': (7158,'Concluído',''),'VE0094': (5942,'Concluído',''),'VE0095': (13480,'Concluído',''),'VE0096': (17686,'Concluído',''),'VE0097': (5722,'Cancelado','Cancelada pelo Cliente'),'VE0098': (16963,'Concluído',''),'VE0099': (14225,'Concluído',''),'VE0100': (12553,'Concluído',''),'VE0101': (18047,'Concluído',''),'VE0102': (11420,'Concluído',''),'VE0103': (6191,'Concluído',''),'VE0104': (8388,'Concluído',''),'VE0105': (17210,'Concluído',''),'VE0106': (12217,'Concluído',''),'VE0107': (8984,'Concluído',''),'VE0108': (7638,'Cancelado','Cancelada pelo Cliente'),'VE0109': (8462,'Concluído',''),'VE0110': (14081,'Concluído',''),'VE0111': (10842,'Concluído',''),'VE0112': (13261,'Concluído',''),'VE0113': (16953,'Cancelado','Estoque em Falta'),'VE0114': (5343,'Concluído',''),'VE0115': (4734,'Concluído',''),'VE0116': (13606,'Cancelado','Cancelada pelo Cliente'),'VE0117': (17106,'Cancelado','Estoque em Falta'),'VE0118': (17704,'Concluído',''),'VE0119': (12242,'Concluído',''),'VE0120': (7476,'Cancelado','Estoque em Falta'),'VE0121': (18408,'Concluído',''),'VE0122': (13612,'Concluído',''),'VE0123': (18198,'Concluído',''),'VE0124': (4844,'Concluído',''),'VE0125': (12750,'Concluído',''),'VE0126': (11969,'Concluído',''),'VE0127': (15337,'Concluído',''),'VE0128': (1100,'Concluído',''),'VE0129': (18893,'Concluído',''),'VE0130': (15850,'Concluído',''),'VE0131': (2097,'Concluído',''),'VE0132': (11636,'Cancelado','Estoque em Falta'),'VE0133': (12603,'Concluído',''),'VE0134': (10769,'Concluído',''),'VE0135': (11016,'Concluído',''),'VE0136': (14556,'Concluído',''),'VE0137': (1389,'Concluído',''),'VE0138': (11681,'Concluído',''),'VE0139': (16759,'Cancelado','Cancelada pelo Cliente'),'VE0140': (16317,'Concluído',''),'VE0141': (5965,'Concluído',''),'VE0142': (4493,'Concluído',''),'VE0143': (5398,'Concluído',''),'VE0144': (9875,'Concluído',''),'VE0145': (17492,'Concluído',''),'VE0146': (7473,'Concluído',''),'VE0147': (10284,'Concluído',''),'VE0148': (10778,'Concluído',''),'VE0149': (2227,'Concluído',''),'VE0150': (14157,'Concluído',''),'VE0151': (9516,'Concluído',''),'VE0152': (9824,'Concluído',''),'VE0153': (5118,'Concluído',''),'VE0154': (5123,'Concluído',''),'VE0155': (2697,'Concluído',''),'VE0156': (19024,'Concluído',''),'VE0157': (5128,'Concluído',''),'VE0158': (8293,'Cancelado','Estoque em Falta'),'VE0159': (18782,'Concluído',''),'VE0160': (12182,'Concluído',''),'VE0161': (9063,'Concluído',''),'VE0162': (17608,'Concluído',''),'VE0163': (8456,'Cancelado','Cancelada pelo Cliente'),'VE0164': (1291,'Concluído',''),'VE0165': (14018,'Concluído',''),'VE0166': (2791,'Concluído',''),'VE0167': (17953,'Concluído',''),'VE0168': (14627,'Concluído',''),'VE0169': (3296,'Concluído',''),'VE0170': (1863,'Concluído',''),'VE0171': (4719,'Concluído',''),'VE0172': (15060,'Concluído',''),'VE0173': (2596,'Cancelado','Cancelada pelo Cliente'),'VE0174': (4919,'Concluído',''),'VE0175': (13770,'Concluído',''),'VE0176': (15041,'Cancelado','Estoque em Falta'),'VE0177': (6702,'Concluído',''),'VE0178': (9989,'Concluído',''),'VE0179': (5135,'Concluído',''),'VE0180': (13337,'Concluído',''),'VE0181': (13457,'Concluído',''),'VE0182': (17218,'Concluído',''),'VE0183': (6424,'Concluído',''),'VE0184': (5478,'Concluído',''),'VE0185': (10478,'Cancelado','Cancelada pelo Cliente'),'VE0186': (3240,'Concluído',''),'VE0187': (16503,'Concluído',''),'VE0188': (12762,'Concluído',''),'VE0189': (6985,'Cancelado','Cancelada pelo Cliente'),'VE0190': (13013,'Concluído',''),'VE0191': (5706,'Concluído',''),'VE0192': (6521,'Cancelado','Estoque em Falta'),'VE0193': (12904,'Concluído',''),'VE0194': (14691,'Concluído',''),'VE0195': (19338,'Concluído',''),'VE0196': (4556,'Cancelado','Cancelada pelo Cliente'),'VE0197': (9653,'Concluído',''),'VE0198': (4617,'Concluído',''),'VE0199': (4717,'Concluído',''),'VE0200': (8366,'Concluído','')}\n",
        "\n",
        "#percorrer a lista, e sempre que der concluido, add no denominador 'vendas concluidas' e sempre que nao vender por conta de falta no estoque, colocar no nominador e denominador 'vendas perdidas por estoque'\n",
        "def stockout(dicionario_vendas):\n",
        "  n = 0     #n de nominador\n",
        "  d = 0     #d de denominador\n",
        "  for venda in dicionario_vendas:\n",
        "    valor, status, motivo = dicionario_vendas[venda]    #isso faz com que cada item de cada venda receba um nome\n",
        "    if status == 'Concluído':\n",
        "      d += valor\n",
        "    elif status == 'Cancelado' and motivo == 'Estoque em Falta':\n",
        "      d += valor\n",
        "      n += valor\n",
        "  return n / d\n",
        "\n",
        "print('{:.2%}'.format(stockout(vendas)))"
      ],
      "metadata": {
        "colab": {
          "base_uri": "https://localhost:8080/"
        },
        "id": "DJNE-fnD7ihx",
        "outputId": "ff6c24bf-14bd-43bd-d771-60aed1151507"
      },
      "execution_count": null,
      "outputs": [
        {
          "output_type": "stream",
          "name": "stdout",
          "text": [
            "7.65%\n"
          ]
        }
      ]
    },
    {
      "cell_type": "code",
      "source": [
        "'''\n",
        "Função p achar cliente inadiplente (q não paga) e enviar a lista p setor de cobrança\n",
        "Inadiplente = se dever +R$1000 por +20 dias\n",
        "(cpf, valor_devendo, dias)\n",
        "'''\n",
        "clientes_devedores = [('462.286.561-65',14405,24),('251.569.170-81',16027,1),('297.681.579-21',8177,28),('790.223.154-40',9585,10),('810.442.219-10',18826,29),('419.210.299-79',11421,15),('908.507.760-43',12445,24),('911.238.364-17',1345,4),('131.115.339-28',11625,8),('204.169.467-27',5364,22),('470.806.376-11',932,29),('938.608.980-69',13809,19),('554.684.165-26',11227,2),('119.225.846-34',4475,9),('358.890.858-95',13932,20),('786.547.940-70',17048,25),('468.487.741-94',2902,8),('540.685.100-32',5806,21),('379.729.796-80',7622,24),('980.173.363-94',13167,24),('833.285.374-56',19581,24),('103.669.436-50',17126,4),('386.836.124-46',18825,11),('588.404.964-15',1545,30),('600.556.177-18',1921,7),('670.346.230-99',18079,28),('771.352.915-13',16581,23),('430.314.324-46',13942,24),('629.507.759-51',17951,11),('348.683.225-73',12424,10),('406.133.151-17',5888,30),('310.985.894-64',17316,30),('964.317.132-30',18818,30),('845.331.524-14',14284,13),('781.995.738-18',19369,29),('921.558.128-63',3206,27),('941.386.982-65',10228,26),('551.135.290-10',18822,18),('537.124.578-35',12670,6),('119.383.169-76',790,20),('938.473.410-98',8851,5),('279.775.182-54',5212,20),('210.872.954-53',13569,8),('684.995.531-65',8649,21),('653.886.282-57',504,28),('973.580.738-53',2533,9),('285.864.892-85',8200,21),('777.154.423-98',10336,8),('769.786.401-34',3233,12),('521.566.565-97',11882,14),('491.799.681-92',653,8),('344.357.819-36',8856,18),('265.362.581-99',8962,8),('331.410.527-56',18516,18),('143.188.958-61',7234,29),('751.630.472-61',13552,6),('714.707.807-80',2898,7),('585.584.932-83',239,25),('165.554.107-13',9572,23),('718.225.984-87',10534,25),('611.715.653-32',3210,11),('397.994.286-79',13651,24),('967.160.575-69',8997,25),('369.750.998-94',13952,2),('767.400.554-79',18320,11),('171.104.286-74',5821,21),('152.817.649-24',3358,30),('645.308.846-62',15176,25),('273.884.570-92',4436,13),('888.818.341-45',15730,3),('577.836.712-40',14670,16),('513.529.919-95',4002,1),('201.476.809-95',17442,21),('657.816.571-87',1582,2),('810.494.975-87',2157,9),('531.749.410-17',12355,18),('486.290.887-24',18576,26),('432.376.642-62',8027,23),('207.274.437-91',5125,29),('634.244.673-72',11387,15),('346.871.172-72',8105,23),('166.330.605-50',7865,11),('829.181.731-94',2425,8),('197.305.464-63',9681,8),('887.877.706-59',15681,10),('847.598.885-51',323,23),('817.170.984-26',5169,27),('591.397.550-29',13362,25),('872.733.198-95',5756,18),('615.629.238-82',11678,23),('194.782.846-77',11044,17),('146.392.158-88',6848,4),('240.427.458-70',3906,25),('583.662.427-52',3306,5),('841.627.523-64',4778,4),('985.337.216-77',15308,4),('912.410.722-57',11683,6),('700.720.266-23',12638,21),('605.405.529-53',3831,3),('383.256.402-25',2599,10),('248.103.486-68',9121,1),('261.974.594-90',2139,26),('297.126.704-91',18529,16),('680.569.318-52',10176,23),('296.334.647-38',225,13),('200.761.898-70',16244,20),('258.232.687-17',19462,18),('597.295.672-38',18840,11),('894.479.102-52',11375,12),('556.156.341-36',16269,23),('987.874.553-86',11253,17),('248.927.998-94',6510,1),('852.796.660-25',2662,23),('741.370.204-36',9303,16),('536.714.951-95',2877,23),('320.395.830-44',14554,5),('520.645.562-80',17547,24),('553.700.674-28',3147,14),('913.525.896-32',17651,28),('750.456.495-86',11524,9),('246.171.748-38',15184,4),('760.248.897-67',4953,25),('920.890.990-46',17172,20),('805.469.913-50',17500,21),('878.594.225-48',6255,3),('356.715.924-36',3454,13),('847.150.802-96',8602,22),('625.846.640-53',10888,19),('539.300.108-41',11225,21),('549.151.467-76',1286,21),('738.451.908-29',18905,22),('987.288.834-69',17533,25),('898.532.296-94',9719,11),('620.531.607-13',13584,10),('169.415.202-43',1871,29),('757.885.355-97',18150,28),('252.581.376-21',2497,3),('177.937.460-78',7178,8),('523.895.611-54',9878,26),('883.680.201-23',16761,3),('936.678.268-71',11017,9),('871.912.703-73',1754,9),('957.749.478-56',6914,9),('725.636.354-80',8605,13),('898.316.244-33',14363,12),('894.748.325-28',2764,3),('647.106.954-60',1482,6),('628.716.937-98',14107,8),('332.677.483-83',19146,15),('186.870.928-82',17050,12),('216.248.879-71',4384,16),('287.929.269-44',4894,19),('278.335.932-42',17220,13),('824.107.287-13',11797,7),('535.354.954-30',9195,22),('311.762.241-12',13871,2),('209.759.133-88',13580,21),('505.728.766-53',16950,13),('879.471.988-23',17427,14),('772.329.947-39',3462,8),('321.123.241-10',2592,22),('407.342.963-78',11435,21),('786.935.637-47',14240,9),('461.791.351-55',142,2),('770.920.161-42',1247,24),('639.870.185-59',6430,10),('815.943.237-83',19550,22),('141.774.255-61',17866,13),('379.995.400-37',9503,29),('261.103.178-64',19167,13),('495.461.913-57',12265,29),('498.848.750-79',14549,16),('578.770.731-84',1462,5),('408.987.269-72',5647,28),('191.970.336-40',6313,15),('761.137.848-34',10654,23),('810.512.154-21',14928,1),('256.371.788-38',7085,2),('216.401.188-57',1531,23),('956.318.620-43',6327,22),('986.516.478-33',3866,25),('105.665.555-60',7118,4),('259.228.430-72',1601,8),('133.627.971-58',10142,14),('327.988.845-70',14985,23),('363.167.322-63',17236,7),('189.986.406-38',16888,18),('661.194.373-45',7824,1),('805.728.877-53',514,10),('887.826.412-21',15977,24),('122.975.174-32',9409,25),('456.550.370-55',19922,18),('388.243.133-66',19785,17),('208.788.890-61',11893,22),('881.332.662-49',6344,16),('912.349.944-52',6858,15),('534.904.583-32',9559,11),('825.175.334-25',19805,15),('339.191.298-46',13325,8),('569.993.915-78',4339,15)]\n",
        "\n",
        "def inadiplentes(lista_dev):   #dev de devedor\n",
        "  lista_inad = []\n",
        "  for clientes in lista_dev:\n",
        "    cpf, valor, dias = clientes\n",
        "    if valor > 1000 and dias > 20:\n",
        "      lista_inad.append(cpf)\n",
        "  return lista_inad\n",
        "\n",
        "print('Temos {} clientes inadiplentes. Segue lista CPF:'.format(len(inadiplentes(clientes_devedores))))\n",
        "print('-'*30)\n",
        "print(f'\\n'.join(map(str,inadiplentes(clientes_devedores))))"
      ],
      "metadata": {
        "id": "vVFAMqOp-ZLA"
      },
      "execution_count": null,
      "outputs": []
    },
    {
      "cell_type": "code",
      "source": [
        "def operacao(n1,n2):\n",
        "  soma = n1 + n2\n",
        "  menos = n1 - n2\n",
        "  x = n1 * n2\n",
        "  div = n1 / n2\n",
        "  return (soma, menos, x, div)\n",
        "\n",
        "print(operacao(10,20))"
      ],
      "metadata": {
        "colab": {
          "base_uri": "https://localhost:8080/"
        },
        "id": "RNnZY9JGKrLi",
        "outputId": "36f8efc1-b8af-41e1-a513-904c5e24b192"
      },
      "execution_count": null,
      "outputs": [
        {
          "output_type": "stream",
          "name": "stdout",
          "text": [
            "(30, -10, 200, 0.5)\n"
          ]
        }
      ]
    },
    {
      "cell_type": "code",
      "source": [
        "precos_imoveis = [2.17,1.54,1.45,1.94,2.37,2.3,1.79,1.8,2.25,1.37]\n",
        "tamanho_imoveis = [207,148,130,203,257,228,160,194,232,147]"
      ],
      "metadata": {
        "id": "q2rE7x80F63F"
      },
      "execution_count": null,
      "outputs": []
    },
    {
      "cell_type": "code",
      "source": [
        "'''\n",
        "Data Science e IA\n",
        "Criar modelo de previsão. Precisa que uma parte seja p testar modelo e outra p treinar\n",
        "'''\n",
        "fator = 0.1            #usar 10% da lista para teste\n",
        "i = int((1 - fator) * len(precos_imoveis))   #isso permite saber em qual indice (item) cortar a lista p divdir entre treino e teste\n",
        "    ##len(precos_imoveis nesse caso é 10, pq temos 10 itens na lista. (1 - fator) = 0,9. E 0,9* 10 = 9. Então sera cortado a lista no item 9\n",
        "precos_treino = precos_imoveis[:i]    #pega até o i, que no caso é 9 itens\n",
        "precos_teste = precos_imoveis[i:]     #pega dps do i, q no caso é 1 item\n",
        "\n",
        "print(precos_treino)\n",
        "print(precos_teste)"
      ],
      "metadata": {
        "colab": {
          "base_uri": "https://localhost:8080/"
        },
        "id": "xsRRvBdAZ0OO",
        "outputId": "abc1ba14-eadd-48d2-84cf-b2d2fbed2df3"
      },
      "execution_count": null,
      "outputs": [
        {
          "output_type": "stream",
          "name": "stdout",
          "text": [
            "[2.17, 1.54, 1.45, 1.94, 2.37, 2.3, 1.79, 1.8, 2.25]\n",
            "[1.37]\n"
          ]
        }
      ]
    },
    {
      "cell_type": "code",
      "source": [
        "precos_imoveis = [2.17,1.54,1.45,1.94,2.37,2.3,1.79,1.8,2.25,1.37,2.4,1.72,2,1.69,1.63,2.01,2.25,1.61,1.02,1.19,1.86,2.15,2.03,1.61,1.52,1.56,1.69,1.47,1.09,2.47,1.62,2.15,1.81,2.49,2.08,1.02,1.68,1.53,1.2,1.29,1.88,1.92,2.14,1.95,2.48,2.44,1.41,1.98,1.89,1.69,1.95,1.42,1.57,2.32,1.23,1.43,1.35,1.49,2.39,2.37,1.3,2.25,1.5,1.35,2.06,1.05,1.7,2.29,2.44,2.09,1.81,2.04,2.45,1.42,2.09,2.19,2.09,1,2.23,1.39,2,1.29,1.55,1.67,2.06,1.89,2.07,2.39,1.93,1.51,1.73,1.66,1.18,1.13,1.69,2.48,1.26,1.75, 1.51, 1.73]\n",
        "tamanho_imoveis = [207,148,130,203,257,228,160,194,232,147,222,165,184,175,147,217,214,171,86,111,180,211,210,168,156,154,179,163,99,246,162,205,195,263,198,121,149,140,122,119,197,210,218,202,258,256,135,203,173,152,197,145,154,252,141,141,151,133,232,229,134,215,155,138,186,120,152,213,256,219,200,210,238,140,224,233,222,120,233,151,185,111,149,186,194,194,222,223,185,157,154,164,129,128,169,240,136,191, 157, 154]\n",
        "\n",
        "def separar_listas(precos, tamanhos, fator = 0.1):\n",
        "  if len(precos) == len(tamanhos):    #caso as 2 listas tenham msm tamanho\n",
        "    i = int((1 - fator) * len(precos))\n",
        "    precos_treino = precos[:i]\n",
        "    precos_teste = precos[i:] \n",
        "    tamanho_treino = tamanhos[:i]\n",
        "    tamanho_teste = tamanhos[i:]\n",
        "    return precos_treino, precos_teste, tamanho_treino, tamanho_teste\n",
        "  else: \n",
        "    print('listas são de tamanhos diferentes')\n",
        "    return\n",
        "\n",
        "print(separar_listas(precos_imoveis, tamanho_imoveis))"
      ],
      "metadata": {
        "id": "tUXSCnpeF8kI",
        "colab": {
          "base_uri": "https://localhost:8080/"
        },
        "outputId": "35467d5e-2a2d-4703-c5e4-846f1dd3e008"
      },
      "execution_count": null,
      "outputs": [
        {
          "output_type": "stream",
          "name": "stdout",
          "text": [
            "100\n",
            "([2.17, 1.54, 1.45, 1.94, 2.37, 2.3, 1.79, 1.8, 2.25, 1.37, 2.4, 1.72, 2, 1.69, 1.63, 2.01, 2.25, 1.61, 1.02, 1.19, 1.86, 2.15, 2.03, 1.61, 1.52, 1.56, 1.69, 1.47, 1.09, 2.47, 1.62, 2.15, 1.81, 2.49, 2.08, 1.02, 1.68, 1.53, 1.2, 1.29, 1.88, 1.92, 2.14, 1.95, 2.48, 2.44, 1.41, 1.98, 1.89, 1.69, 1.95, 1.42, 1.57, 2.32, 1.23, 1.43, 1.35, 1.49, 2.39, 2.37, 1.3, 2.25, 1.5, 1.35, 2.06, 1.05, 1.7, 2.29, 2.44, 2.09, 1.81, 2.04, 2.45, 1.42, 2.09, 2.19, 2.09, 1, 2.23, 1.39, 2, 1.29, 1.55, 1.67, 2.06, 1.89, 2.07, 2.39, 1.93, 1.51], [1.73, 1.66, 1.18, 1.13, 1.69, 2.48, 1.26, 1.75, 1.51, 1.73], [207, 148, 130, 203, 257, 228, 160, 194, 232, 147, 222, 165, 184, 175, 147, 217, 214, 171, 86, 111, 180, 211, 210, 168, 156, 154, 179, 163, 99, 246, 162, 205, 195, 263, 198, 121, 149, 140, 122, 119, 197, 210, 218, 202, 258, 256, 135, 203, 173, 152, 197, 145, 154, 252, 141, 141, 151, 133, 232, 229, 134, 215, 155, 138, 186, 120, 152, 213, 256, 219, 200, 210, 238, 140, 224, 233, 222, 120, 233, 151, 185, 111, 149, 186, 194, 194, 222, 223, 185, 157], [154, 164, 129, 128, 169, 240, 136, 191, 157, 154])\n"
          ]
        }
      ]
    },
    {
      "cell_type": "code",
      "source": [
        "def listar_prod(*listas):   #o * é para permitir argumentos ilimitados\n",
        "  lista_prod = []\n",
        "  for lista in listas:\n",
        "    for prod, estoque in lista:\n",
        "      lista_prod.append(prod)\n",
        "  lista_prod = set(lista_prod)\n",
        "  lista_prod = list(lista_prod)\n",
        "  return lista_prod\n",
        "\n",
        "estoque_fim_jan = [('BSA2199',396),('PPF5239',251),('BSA1212',989),('PPF2154',449),('BEB3410',241),('PPF8999',527),('EMB9591',601),('BSA2006',314),('EMB3604',469),('EMB2070',733),('PPF9018',339),('PPF1468',906),('BSA5819',291),('PPF8666',850),('BEB2983',353),('BEB5877',456),('PPF5008',963),('PPF3877',185),('PPF7321',163),('BSA8833',644),('PPF4980',421),('PPF3063',757),('BSA2089',271),('BSA8398',180),('EMB4622',515),('EMB9814',563),('PPF3784',229),('PPF2398',270),('BEB3211',181),('PPF8655',459),('PPF1874',799),('PPF8789',126),('PPF6324',375),('EMB9290',883),('BSA5516',555),('BSA8451',243),('BSA8213',423)]\n",
        "estoque_fim_fev = [('BSA2199',849),('PPF5239',877),('BSA1212',336),('PPF2154',714),('BEB3410',834),('PPF8999',201),('EMB9591',576),('BSA2006',985),('EMB3604',615),('EMB2070',182),('PPF9018',127),('PPF1468',212),('BSA5819',338),('PPF8666',751),('BEB2983',363),('BEB5877',916),('PPF5008',331),('PPF3877',744),('PPF7321',488),('BSA8833',277),('PPF4980',530),('PPF3063',796),('BSA2089',396),('BSA8398',478),('EMB4622',603),('EMB9814',784),('PPF3784',434),('PPF2398',896),('BEB3211',826),('PPF8655',748),('PPF1874',210),('PPF8789',891),('PPF6324',250),('EMB6618',611),('BSA3409',984),('BSA9866',870),('BSA1792',672)]\n",
        "estoque_fim_mar = [('BSA2199',772),('PPF5239',394),('BSA1212',409),('PPF2154',473),('BEB3410',831),('PPF8999',764),('EMB9591',942),('BSA2006',482),('EMB3604',745),('EMB2070',451),('PPF9018',608),('PPF1468',675),('BSA5819',431),('PPF8666',795),('BEB2983',439),('BEB5877',588),('PPF5008',442),('PPF3877',950),('PPF7321',606),('BSA8833',464),('PPF4980',819),('PPF3063',687),('BSA2089',253),('BSA8398',437),('EMB4622',769),('EMB9814',178),('PPF3784',996),('PPF2398',588),('BEB3211',247),('PPF8655',309),('PPF1874',305),('PPF8789',878),('PPF6324',826),('EMB6618',534),('BSA3409',705),('BSA9895',618),('BSA4319',690)]\n",
        "estoque_fim_abr = [('BSA2199',647),('PPF5239',292),('BSA1212',551),('PPF2154',802),('BEB3410',712),('PPF8999',603),('EMB9591',963),('BSA2006',481),('EMB3604',199),('EMB2070',635),('PPF9018',956),('PPF1468',161),('BSA5819',787),('PPF8666',771),('BEB2983',867),('BEB5877',539),('PPF5008',614),('PPF3877',715),('PPF7321',336),('BSA8833',961),('PPF4980',116),('PPF3063',876),('BSA2089',579),('BSA8398',814),('EMB4622',434),('EMB9814',981),('PPF3784',498),('PPF2398',498),('BEB3211',606),('PPF8655',168),('PPF1874',518),('PPF8789',157),('PPF6324',501),('EMB6618',932),('BSA3409',247),('BSA9895',287),('BSA4319',477)]\n",
        "\n",
        "print(listar_prod(estoque_fim_jan, estoque_fim_fev, estoque_fim_mar, estoque_fim_abr))"
      ],
      "metadata": {
        "id": "mld52FrO1hXR"
      },
      "execution_count": null,
      "outputs": []
    },
    {
      "cell_type": "code",
      "source": [
        "endas_produtos = [1500, 150, 2100, 1950]\n",
        "produtos = ['vinho', 'cafeiteira', 'microondas', 'iphone']\n",
        "\n",
        "lista3 = list(zip(vendas_produtos, produtos))\n",
        "lista3.sort()\n",
        "\n",
        "produtos = [prod for vendas, prod in lista3]\n",
        "print(produtos)"
      ],
      "metadata": {
        "id": "RJ8qAKtUJ_sW"
      },
      "execution_count": null,
      "outputs": []
    },
    {
      "cell_type": "code",
      "source": [
        "vendas_produtos = [('iphone', 558147, 951642), ('galaxy', 712350, 244295), ('ipad', 573823, 26964), ('tv', 405252, 787604), ('máquina de café', 718654, 867660), ('kindle', 531580, 78830), ('geladeira', 973139, 710331), ('adega', 892292, 646016), ('notebook dell', 422760, 694913), ('notebook hp', 154753, 539704), ('notebook asus', 887061, 324831), ('microsoft surface', 438508, 667179), ('webcam', 237467, 295633), ('caixa de som', 489705, 725316), ('microfone', 328311, 644622), ('câmera canon', 591120, 994303)]\n",
        "\n",
        "'''\n",
        "(prod, qnt de vendas 2019, qnt de vendas 2020)\n",
        "'''\n",
        "\n",
        "nove = [nove for prod, nove, vinte in vendas_produtos]\n",
        "nove.sort()\n",
        "print(nove)     #p saber o mais vendido, podemos colocar a lista em ordem decrescente, ou print(max(lista))\n",
        "print(max(nove))\n",
        "\n",
        "prod_nove = [(nove, prod) for prod, nove, vinte in vendas_produtos]\n",
        "print(max(prod_nove))\n",
        "\n"
      ],
      "metadata": {
        "id": "_yzx866l2mQC"
      },
      "execution_count": null,
      "outputs": []
    },
    {
      "cell_type": "code",
      "source": [
        "vendas_produtos = [1500, 150, 2100, 1950]\n",
        "produtos = ['vinho', 'cafeiteira', 'microondas', 'iphone']\n",
        "\n",
        "lista3 = list(zip(vendas_produtos, produtos))\n",
        "lista3.sort()\n",
        "\n",
        "produtos = [prod for vendas, prod in lista3]\n",
        "meta = [prod for vendas, prod in lista3 if vendas >=1700]     podemos colocar o valor da meta como variavel tbm, e colocar a variavel no code\n",
        "print(meta)\n",
        "\n",
        "'''\n",
        "se nao zipar as listas\n",
        "'''\n",
        "lista1 = [1500, 150, 2100, 1950]\n",
        "lista2 = ['vinho', 'cafeiteira', 'microondas', 'iphone']\n",
        "\n",
        "meta2 = [prod for i, prod in enumerate(lista2) if lista1[i] >= 1700]\n",
        "print(meta2)"
      ],
      "metadata": {
        "id": "l_5XNUsUKUDZ"
      },
      "execution_count": null,
      "outputs": []
    },
    {
      "cell_type": "code",
      "source": [
        "clientes_devedores = [('462.286.561-65',14405,24),('251.569.170-81',16027,1),('297.681.579-21',8177,28),('790.223.154-40',9585,10),('810.442.219-10',18826,29),('419.210.299-79',11421,15),('908.507.760-43',12445,24),('911.238.364-17',1345,4),('131.115.339-28',11625,8),('204.169.467-27',5364,22),('470.806.376-11',932,29),('938.608.980-69',13809,19),('554.684.165-26',11227,2),('119.225.846-34',4475,9),('358.890.858-95',13932,20),('786.547.940-70',17048,25),('468.487.741-94',2902,8),('540.685.100-32',5806,21),('379.729.796-80',7622,24),('980.173.363-94',13167,24),('833.285.374-56',19581,24),('103.669.436-50',17126,4),('386.836.124-46',18825,11),('588.404.964-15',1545,30),('600.556.177-18',1921,7),('670.346.230-99',18079,28),('771.352.915-13',16581,23),('430.314.324-46',13942,24),('629.507.759-51',17951,11),('348.683.225-73',12424,10),('406.133.151-17',5888,30),('310.985.894-64',17316,30),('964.317.132-30',18818,30),('845.331.524-14',14284,13),('781.995.738-18',19369,29),('921.558.128-63',3206,27),('941.386.982-65',10228,26),('551.135.290-10',18822,18),('537.124.578-35',12670,6),('119.383.169-76',790,20),('938.473.410-98',8851,5),('279.775.182-54',5212,20),('210.872.954-53',13569,8),('684.995.531-65',8649,21),('653.886.282-57',504,28),('973.580.738-53',2533,9),('285.864.892-85',8200,21),('777.154.423-98',10336,8),('769.786.401-34',3233,12),('521.566.565-97',11882,14),('491.799.681-92',653,8),('344.357.819-36',8856,18),('265.362.581-99',8962,8),('331.410.527-56',18516,18),('143.188.958-61',7234,29),('751.630.472-61',13552,6),('714.707.807-80',2898,7),('585.584.932-83',239,25),('165.554.107-13',9572,23),('718.225.984-87',10534,25),('611.715.653-32',3210,11),('397.994.286-79',13651,24),('967.160.575-69',8997,25),('369.750.998-94',13952,2),('767.400.554-79',18320,11),('171.104.286-74',5821,21),('152.817.649-24',3358,30),('645.308.846-62',15176,25),('273.884.570-92',4436,13),('888.818.341-45',15730,3),('577.836.712-40',14670,16),('513.529.919-95',4002,1),('201.476.809-95',17442,21),('657.816.571-87',1582,2),('810.494.975-87',2157,9),('531.749.410-17',12355,18),('486.290.887-24',18576,26),('432.376.642-62',8027,23),('207.274.437-91',5125,29),('634.244.673-72',11387,15),('346.871.172-72',8105,23),('166.330.605-50',7865,11),('829.181.731-94',2425,8),('197.305.464-63',9681,8),('887.877.706-59',15681,10),('847.598.885-51',323,23),('817.170.984-26',5169,27),('591.397.550-29',13362,25),('872.733.198-95',5756,18),('615.629.238-82',11678,23),('194.782.846-77',11044,17),('146.392.158-88',6848,4),('240.427.458-70',3906,25),('583.662.427-52',3306,5),('841.627.523-64',4778,4),('985.337.216-77',15308,4),('912.410.722-57',11683,6),('700.720.266-23',12638,21),('605.405.529-53',3831,3),('383.256.402-25',2599,10),('248.103.486-68',9121,1),('261.974.594-90',2139,26),('297.126.704-91',18529,16),('680.569.318-52',10176,23),('296.334.647-38',225,13),('200.761.898-70',16244,20),('258.232.687-17',19462,18),('597.295.672-38',18840,11),('894.479.102-52',11375,12),('556.156.341-36',16269,23),('987.874.553-86',11253,17),('248.927.998-94',6510,1),('852.796.660-25',2662,23),('741.370.204-36',9303,16),('536.714.951-95',2877,23),('320.395.830-44',14554,5),('520.645.562-80',17547,24),('553.700.674-28',3147,14),('913.525.896-32',17651,28),('750.456.495-86',11524,9),('246.171.748-38',15184,4),('760.248.897-67',4953,25),('920.890.990-46',17172,20),('805.469.913-50',17500,21),('878.594.225-48',6255,3),('356.715.924-36',3454,13),('847.150.802-96',8602,22),('625.846.640-53',10888,19),('539.300.108-41',11225,21),('549.151.467-76',1286,21),('738.451.908-29',18905,22),('987.288.834-69',17533,25),('898.532.296-94',9719,11),('620.531.607-13',13584,10),('169.415.202-43',1871,29),('757.885.355-97',18150,28),('252.581.376-21',2497,3),('177.937.460-78',7178,8),('523.895.611-54',9878,26),('883.680.201-23',16761,3),('936.678.268-71',11017,9),('871.912.703-73',1754,9),('957.749.478-56',6914,9),('725.636.354-80',8605,13),('898.316.244-33',14363,12),('894.748.325-28',2764,3),('647.106.954-60',1482,6),('628.716.937-98',14107,8),('332.677.483-83',19146,15),('186.870.928-82',17050,12),('216.248.879-71',4384,16),('287.929.269-44',4894,19),('278.335.932-42',17220,13),('824.107.287-13',11797,7),('535.354.954-30',9195,22),('311.762.241-12',13871,2),('209.759.133-88',13580,21),('505.728.766-53',16950,13),('879.471.988-23',17427,14),('772.329.947-39',3462,8),('321.123.241-10',2592,22),('407.342.963-78',11435,21),('786.935.637-47',14240,9),('461.791.351-55',142,2),('770.920.161-42',1247,24),('639.870.185-59',6430,10),('815.943.237-83',19550,22),('141.774.255-61',17866,13),('379.995.400-37',9503,29),('261.103.178-64',19167,13),('495.461.913-57',12265,29),('498.848.750-79',14549,16),('578.770.731-84',1462,5),('408.987.269-72',5647,28),('191.970.336-40',6313,15),('761.137.848-34',10654,23),('810.512.154-21',14928,1),('256.371.788-38',7085,2),('216.401.188-57',1531,23),('956.318.620-43',6327,22),('986.516.478-33',3866,25),('105.665.555-60',7118,4),('259.228.430-72',1601,8),('133.627.971-58',10142,14),('327.988.845-70',14985,23),('363.167.322-63',17236,7),('189.986.406-38',16888,18),('661.194.373-45',7824,1),('805.728.877-53',514,10),('887.826.412-21',15977,24),('122.975.174-32',9409,25),('456.550.370-55',19922,18),('388.243.133-66',19785,17),('208.788.890-61',11893,22),('881.332.662-49',6344,16),('912.349.944-52',6858,15),('534.904.583-32',9559,11),('825.175.334-25',19805,15),('339.191.298-46',13325,8),('569.993.915-78',4339,15)]\n",
        "\n",
        "inadiplentes = [cpf for cpf, valor, dia in clientes_devedores if valor >= 1000 and dia > 20]\n",
        "#print('\\n'.join(inadiplentes))\n",
        "print(*inadiplentes, sep = '\\n')"
      ],
      "metadata": {
        "id": "lPTJkVjkNNDX"
      },
      "execution_count": null,
      "outputs": []
    },
    {
      "cell_type": "code",
      "source": [
        "estoque = [('BSA2199',396),('PPF5239',251),('BSA1212',989),('PPF2154',449),('BEB3410',241),('PPF8999',527),('EMB9591',601),('BSA2006',314),('EMB3604',469),('EMB2070',733),('PPF9018',339),('PPF1468',906),('BSA5819',291),('PPF8666',850),('BEB2983',353),('BEB5877',456),('PPF5008',963),('PPF3877',185),('PPF7321',163),('BSA8833',644),('PPF4980',421),('PPF3063',757),('BSA2089',271),('BSA8398',180),('EMB4622',515),('EMB9814',563),('PPF3784',229),('PPF2398',270),('BEB3211',181),('PPF8655',459),('PPF1874',799),('PPF8789',126),('PPF6324',375),('EMB9290',883),('BSA5516',555),('BSA8451',243),('BSA8213',423)]\n",
        "\n",
        "'''\n",
        "Se estoque abaixo 1000 unid, fazer pedido de 500 unid\n",
        "Se estoque abaixode 200 unid, fazer pedido de 1000 unid\n",
        "'''\n",
        "\n",
        "pedido1 = [prod for prod, unid in estoque if unid <=500]\n",
        "pedido2 = [prod for prod, unid in estoque if unid <=200]\n",
        "\n",
        "print('Fazer {} pedidos de 500 unid para {}'.format(len(pedido1),pedido1))\n",
        "print('Fazer {} pedidos de 1000 unid para {}'.format(len(pedido2),pedido2))\n"
      ],
      "metadata": {
        "colab": {
          "base_uri": "https://localhost:8080/"
        },
        "id": "okrXi8XDQQ_B",
        "outputId": "fa717667-fd2a-4085-d44f-523d325cee9d"
      },
      "execution_count": null,
      "outputs": [
        {
          "output_type": "stream",
          "name": "stdout",
          "text": [
            "Fazer 23 pedidos de 500 unid para ['BSA2199', 'PPF5239', 'PPF2154', 'BEB3410', 'BSA2006', 'EMB3604', 'PPF9018', 'BSA5819', 'BEB2983', 'BEB5877', 'PPF3877', 'PPF7321', 'PPF4980', 'BSA2089', 'BSA8398', 'PPF3784', 'PPF2398', 'BEB3211', 'PPF8655', 'PPF8789', 'PPF6324', 'BSA8451', 'BSA8213']\n",
            "Fazer 5 pedidos de 1000 unid para ['PPF3877', 'PPF7321', 'BSA8398', 'BEB3211', 'PPF8789']\n"
          ]
        }
      ]
    },
    {
      "cell_type": "code",
      "source": [],
      "metadata": {
        "id": "bMVcuv6VVM-9"
      },
      "execution_count": null,
      "outputs": []
    }
  ]
}