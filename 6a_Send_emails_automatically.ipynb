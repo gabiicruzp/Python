{
  "nbformat": 4,
  "nbformat_minor": 0,
  "metadata": {
    "colab": {
      "provenance": []
    },
    "kernelspec": {
      "name": "python3",
      "display_name": "Python 3"
    },
    "language_info": {
      "name": "python"
    }
  },
  "cells": [
    {
      "cell_type": "markdown",
      "source": [
        "Send emails automatically"
      ],
      "metadata": {
        "id": "F36XWSdkx5cR"
      }
    },
    {
      "cell_type": "code",
      "execution_count": null,
      "metadata": {
        "id": "tkBYPb0mxvIU"
      },
      "outputs": [],
      "source": [
        "#1) Abrir o Jupyter no PC, aguardar ele abrir uma janela no Chrome. No Chrome aparece as pastas do PC\n",
        "#2) Criar uma nova pasta para trabalhar\n",
        "\n",
        "pyautogui: biblioteca de automação de comandos do mouse e teclado\n",
        "Comandos pyautogui = http://pyautogui.readthedocs.io/en/latest/quickstart.html\n",
        "\n",
        "#1) Abrir Jupyter, intalar: pip install pyautogui. Só precisa fazer isso 1 única vez\n",
        "import pyautogui \n",
        "import pyperclip\t#sempre importar esse com o pyautogui, porque eles atuam juntos. Quando instala o pyautogui, já é instalado o pyperclip\n",
        "import time \n",
        "import pandas as pd\t#o \"as pd\" é para abreviar a biblioteca para qnd for usar só escrever pd\n",
        "\n",
        "#2) Escrever os passos que fariamos a mão para manipular os dados. Isso ajuda a pensar nos códigos e no que fazer:\n",
        "\n",
        "#3) Transformar o que queremos em códigos\n",
        "\n",
        "\n",
        "#Passo 1: entrar no nosso sistema - https://drive.google.com/drive/folders/149xknr9JvrlEnhNWO49zPcw0PW5icxga?usp=sharing\n",
        "pyautogui.PAUSE = 1\t\t#As vezes da erro o código porque vai muito rápido e o PC não consegue \"raciocionar direito\". Tem que pedir para o código dar alguns segundos entre comandos\n",
        "\n",
        "pyautogui.hotkey('ctrl', 't') #Atalho de combinação de tecla para abrir nova aba do chrome\n",
        "\n",
        "#Criar variável Link e armazenar o link do que queremos. Se tiver mais de um link, separar de alguma forma\n",
        "link = 'https://drive.google.com/drive/folders/149xknr9JvrlEnhNWO49zPcw0PW5icxga?usp=sharing'\n",
        "pyperclip.copy('link')\t#O pyautogui não lê caractere, ele não consegue rodar quando tem. Isso pode causar problema caso entre em algum site ou alguma frase com caractere. Para isso podemos pedir para a biblioteca pyperclip copiar e colar o que queremos\n",
        "##no exemplo da aula, o link que ele tenta abrir abaixo tem um ? no meio, e por isso não abre.\n",
        "\n",
        "pyautogui.hotkey('ctrl', 'v')\t#Para colar o Link que foi copiado,\n",
        "\n",
        "#OU\n",
        "# pyautogui.press('win')\t#Para pressionar uma tecla (win é de windowns #Abrir o programa do PC (press para apertar botão do teclado)\n",
        "# pyautogui.write('chrome')\t#Para o programa escrever\n",
        "# pyautogui.press('enter')\n",
        "##fazer o mesmo código que anteriormente\n",
        "\n",
        "#Passo 2: Entrar na pasta \"exportar\"\n",
        "#Para clicar em algum local na tela, precisa saber exatamente em que posição da tela (x,y) para clicar\n",
        "time.sleep(5)\t\n",
        "pyautogui.position()\t#Rodar APENAS essas 2 linhas separadas, e quando rodar, abrir na pag que quer descobrir a localização, e colocar o mouse sobre o botão que quer clicar. Assim, no tempo determinado, ele vai rodar o position()\n",
        "##Só precisa disso 1x para ver a posição do botão.\n",
        "\n",
        "time.sleep(5) \t\t#espera 5seg (uma vez) para o site carregar direito\n",
        "pyautogui.click(x=478, y=317)\t#por padrão isso clica uma única vez\n",
        "pyautogui.click(x=478, y=317, clicks=2) #agora irá clicar 2x\t\n",
        "##se quiser com botão direto, colocar após a posição (..., button='right')\n",
        "\n",
        "#Passo 3: Baixar o arquivo da pasta, \"arquivo de vendas\"\n",
        "Queremos baixar o arquivo, para isso, quando tiver dentro da pasta, iremos pedir para esperar alguns segundos para carregar a pag. E terá pelo menos 3 clicks (clicar no arquivo, clicar nos 3 pontinhos, clicar em download)\n",
        "##Localizar cada botão\n",
        "time.sleep(5)\n",
        "pyautogui.position()\n",
        "###fazer isso para cada parte que deverá ser clicado e salvar a posição\n",
        "\n",
        "time.sleep (3)\n",
        "pyautogui.click(x=478, y=317)\t#para 1° click\n",
        "pyautogui.click(x=478, y=317)\t#para 2° click\n",
        "pyautogui.click(x=478, y=317)\t#para 3° click\n",
        "time.sleep (10)\t#para esperar fazer o download\n",
        "\n",
        "#Passo 4: Importar arquivo\n",
        "##Com botão direito do mouse, no arquivo que está no PC, clicar em propriedades para achar em que local do PC está o arquivo que queremos importar\n",
        "\n",
        "tabela = pd.read_excel(r'C:\\Users\\Gabriela\\Downloads\\Curso Python\\Hashtag\\Aula1\\Vendas -Dez.xlsx')\n",
        "##o \"r\" antes do C: faz com que o diretório seja lido exatamente como está, é uma dica\n",
        "tabela.head()\n",
        "display(tabela)\t#mostra a tabela formatada bonitinha\n",
        "\n",
        "#Passo 5: O que precisa ser manipulado: calcular faturamento e qnt de prod vendidos\n",
        "faturamento = tabela['Valor Final'].sum() \n",
        "quantidade = tabela['Quantidade'].sum\n",
        "print(faturamento)\n",
        "print(quantidade)\n",
        "\n",
        "#Passo 6: Enviar email\n",
        "link2 = 'https://outlook.live.com/mail/0/inbox'\n",
        "pyperclip.copy(link2)\n",
        "pyautogui.hotkey('ctrl', 't')\n",
        "pyautogui.write('crtk', 'v')\n",
        "pyautogui.press('enter')\n",
        "\n",
        "time.sleep (3)\n",
        "\n",
        "#clicar botão nova mensagem\n",
        "pyautogui.click(x=478, y=317)\t#para 1° click no \"nova mensagem\"\n",
        "#escrever pra quem estou enviando\n",
        "pyautogui.write('')\n",
        "pyautogui.press('tab')\t#para selecionar o email que escreveu\n",
        "pyautogui.press('tab')\t#para ir para o assunto\n",
        "\n",
        "#escrever assunto\n",
        "pyautogui.write('')\n",
        "pyautogui.press('tab')\n",
        "pyautogui.press('tab')\n",
        "pyautogui.press('tab')\t#para ir para o corpo do email\n",
        "#obs: se tiver caractere especial, precisa colocar o texto em variavel:\n",
        "#> assunto = \"Relatório\"\n",
        "#> pyperclip.copy(assunto)\n",
        "#> pyautogui.hotkey('ctrl','v')\n",
        "#> pyautogui.press('tab')\n",
        "\n",
        "#escrever corpo do email\n",
        "texto = f\"\"\"\n",
        "textotextotexto textotexto {variável que queremos colocar:,.2f}\n",
        "texto texto texto {outra variável:,.2f}\n",
        "\n",
        "Abraços,\n",
        "Gabriela C.\n",
        "\"\"\"\n",
        "##as 3 aspas seguidas permite escrever em várias linhas, e a letra f antes da aspas informa que vamos formartar o texto. Já as chaves {} permite colocar a variavel que queremos formatar dentro do texto. Se colocar : após a variavel, é para editar aquela variavel naquele momento, ex quando precisar mudar n°. A virgula é o separador de milhar, \".2f\" é para dizer que tem 2 casas decimais.\n",
        "pyautogui.write(texto)\n",
        "\n",
        "#enviar email\n",
        "pyautogui.click(x=478, y=317)\t#para 2° click\t#clicar em enviar"
      ]
    },
    {
      "cell_type": "code",
      "source": [
        "import pyautogui\n",
        "import pyperclip\n",
        "import time\n",
        "import pandas as pd"
      ],
      "metadata": {
        "id": "4X9ozNR3yCld"
      },
      "execution_count": null,
      "outputs": []
    },
    {
      "cell_type": "code",
      "source": [
        "#time.sleep(5)\n",
        "#pyautogui.position()"
      ],
      "metadata": {
        "id": "WoeY2-8SyCiw"
      },
      "execution_count": null,
      "outputs": []
    },
    {
      "cell_type": "code",
      "source": [
        "pyautogui.PAUSE = 1"
      ],
      "metadata": {
        "id": "M4_iO-sQyCgJ"
      },
      "execution_count": null,
      "outputs": []
    },
    {
      "cell_type": "code",
      "source": [
        "pyautogui.hotkey('ctrl','t')\n",
        "link1= 'https://outlook.live.com/mail/0/inbox'\n",
        "pyperclip.copy(link1)\n",
        "pyautogui.hotkey('ctrl', 'v')\n",
        "pyautogui.press('enter')\n",
        "\n",
        "time.sleep (3)\n",
        "\n",
        "pyautogui.click(x=205, y=213)\n",
        "\n",
        "time.sleep (5)"
      ],
      "metadata": {
        "id": "bB23D8gCyCdy"
      },
      "execution_count": null,
      "outputs": []
    },
    {
      "cell_type": "code",
      "source": [
        "texto1 = 'gabrielacruzp@hotmail.com'\n",
        "pyperclip.copy(texto1)\n",
        "\n",
        "pyautogui.hotkey('ctrl','v')\n",
        "pyautogui.press('tab')\n",
        "pyautogui.press('tab')\n",
        "pyautogui.press('tab')"
      ],
      "metadata": {
        "id": "gBaFx0GWyGQY"
      },
      "execution_count": null,
      "outputs": []
    },
    {
      "cell_type": "code",
      "source": [
        "assunto = 'Recado de Paçoca Paiva'\n",
        "pyperclip.copy(assunto)\n",
        "pyautogui.hotkey('ctrl', 'v')\n",
        "pyautogui.press('tab')"
      ],
      "metadata": {
        "id": "KNGHbjaZyGNf"
      },
      "execution_count": null,
      "outputs": []
    },
    {
      "cell_type": "code",
      "source": [
        "texto2 = \"\"\"\n",
        "\n",
        "\"\"\"\n",
        "pyperclip.copy(texto2)\n",
        "pyautogui.hotkey('ctrl','v')\n",
        "\n",
        "pyautogui.click(x=327, y=769)"
      ],
      "metadata": {
        "id": "yDuA0Yk9yGK0"
      },
      "execution_count": null,
      "outputs": []
    }
  ]
}