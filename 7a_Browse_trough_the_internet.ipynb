{
  "nbformat": 4,
  "nbformat_minor": 0,
  "metadata": {
    "colab": {
      "provenance": []
    },
    "kernelspec": {
      "name": "python3",
      "display_name": "Python 3"
    },
    "language_info": {
      "name": "python"
    }
  },
  "cells": [
    {
      "cell_type": "markdown",
      "source": [
        "Browse trough the internet\n",
        "\n",
        "\n"
      ],
      "metadata": {
        "id": "l3OS8sZIxcCq"
      }
    },
    {
      "cell_type": "code",
      "execution_count": null,
      "metadata": {
        "id": "MdYeivXfxahN"
      },
      "outputs": [],
      "source": [
        "#1. Entrar na internet\n",
        "import panda as pd\n",
        "from selenium import webdriver\n",
        "navegador = webdriver.Chrome()\n",
        "#selenium normalmente espera o site carregar, não precisa pedir segundos como time.sleep \n",
        "\n",
        "#2. Pegar cotação dólar\n",
        "navegador.get('https://www.google.com.br/')\n",
        "navegador.find_element_by_xpath('/html/body/div[1]/div[3]/form/div[1]/div[1]/div[1]/div/div[2]/input').send_keys('cotação dolar')\t\t#procura o elemento da página para ser mais especifico\n",
        "##clicar com botão direito do mouse > inspecionar > 1 botão da aba que abrir que tem um quadrado e uma seta e clicar > passar o mouse na pagina para achar o que queremos, clicar, vai aparecer o que queremos, copiar o codigo que aparece e cola no código acima\n",
        "## o send_keys é para dizer o que queremos digitar naquele path. \n",
        "## Ou seja, podemos abrir o google e pesquisar algo na internet\n",
        "navegador.find_element_by_xpath('/html/body/div[1]/div[3]/form/div[1]/div[1]/div[1]/div/div[2]/input').send_keys('Keys.ENTER')\t\t\t#Da enter no site para rodar a busca\n",
        "\n",
        "cotacao_dolar= navegador.find_element_by_xpath('').get_attribute('data-value')\t#colocar o xpath do que queremos, no caso, o valor do $ (data-value, ta escrito no xpath dele)\n",
        "print(cotacao_dolar)\n",
        "\n",
        "#3. Pegar cotação euro\n",
        "navegador.get('https://www.google.com.br/')\n",
        "navegador.find_element_by_xpath('/html/body/div[1]/div[3]/form/div[1]/div[1]/div[1]/div/div[2]/input').send_keys('cotação euro')\n",
        "navegador.find_element_by_xpath('/html/body/div[1]/div[3]/form/div[1]/div[1]/div[1]/div/div[2]/input').send_keys('Keys.ENTER')\n",
        "\t\t\t\n",
        "cotacao_euro= navegador.find_element_by_xpath('').get_attribute('data-value')\t\n",
        "print(cotacao_euro)\n",
        "\n",
        "#4. Pegar cotação ouro\n",
        "navegador.get('https://www.melhorcambio.com/ouro-hoje')\n",
        "navegador.find_element_by_xpath('//*[@id=\"comercial\"]').get.attribute('value')\n",
        "print(cotacao_euro)\n",
        "\n",
        "#5. Fechar aba\n",
        "navegador.quit()\n",
        "\n",
        "#6. Importar e atualziar a base de dados\n",
        "tabela = pd.read_excel('')\n",
        "display(tabela)\n",
        "\n",
        "##atualizar cotação\n",
        "###tabela.loc[tabela[\"coluna_referencia\"] == linha_ref, coluna_alterar]\n",
        "tabela.loc[tabela[\"Moeda\"] == 'Dólar', 'Cotação'] = float(cotacao_dolar)\n",
        "tabela.loc[tabela[\"Moeda\"] == 'Dólar', 'Cotação'] = float(cotacao_euro)\n",
        "tabela.loc[tabela[\"Moeda\"] == 'Dólar', 'Cotação'] = float(cotacao_ouro)\n",
        "display(tabela)\n",
        "\n",
        "##atualizar Preço de Compra > Preço original*cotação\n",
        "tabela['Preço de Compra'] = tabela['Preço Original'] * tabela ['Cotação']\n",
        "display(tabela)\n",
        "\n",
        "##atualizar Preço de vende > preço de compra*margem\n",
        "tabela['Preço de Vende'] = tabela['Preço Compra'] * tabela ['Margem']\n",
        "display(tabela)\n",
        "\n",
        "#7. Exportar a base de dados atualizada\n",
        "tabela.to_excel('.xlsx')"
      ]
    }
  ]
}