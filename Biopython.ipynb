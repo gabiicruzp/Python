{
  "nbformat": 4,
  "nbformat_minor": 0,
  "metadata": {
    "colab": {
      "provenance": []
    },
    "kernelspec": {
      "name": "python3",
      "display_name": "Python 3"
    },
    "language_info": {
      "name": "python"
    }
  },
  "cells": [
    {
      "cell_type": "markdown",
      "source": [
        "O comando 'if' permite criar blocos de comando onde SE aquela condição for verdadeira, então será executado aquele código. Mas também podemos colocar comando como 'else' e 'elif' para caso aquela condição do 'if' inicial não seja verdade, executar então um secundo código (ou então ignorar o código e pular, por exemplo)"
      ],
      "metadata": {
        "id": "VLZXaZQLh59W"
      }
    },
    {
      "cell_type": "code",
      "execution_count": null,
      "metadata": {
        "colab": {
          "base_uri": "https://localhost:8080/"
        },
        "id": "TeQk0mrshSnt",
        "outputId": "7a464f97-98f1-4aee-e9dd-c37f9052a260"
      },
      "outputs": [
        {
          "output_type": "stream",
          "name": "stdout",
          "text": [
            "Vc pode votar, mas não é obrigatório\n"
          ]
        }
      ],
      "source": [
        "# Ex: Criar um if para imprimir uma frase caso o eleitor possa ou não votar\n",
        "## Idades obrigatórias que podem votar de 18 a 70 anos, e facultativo de 16 a 18\n",
        "\n",
        "idade = 70\n",
        "\n",
        "if idade >= 0 and idade < 16:\n",
        "  print(\"Vc ainda nao pode votar\")\n",
        "\n",
        "elif (idade >=16 and idade <18 or idade >= 70):\n",
        "  print(\"Vc pode votar, mas não é obrigatório\")\n",
        "\n",
        "elif (idade >= 18 and idade < 70):\n",
        " print(\"Vc deve votar obrigatóriamente!\")\n",
        "\n",
        "else:\n",
        "  print(\"idade inválida\")\n",
        "\n"
      ]
    },
    {
      "cell_type": "code",
      "source": [
        "# Ex: Comparar se 2 sequencias são iguais\n",
        "\n",
        "seq1 = input('Digite a sequencia 1:')\n",
        "seq2 = input('Digite a sequencia 2:')\n",
        "\n",
        "if seq1 == seq2: \n",
        "  print('As sequencias são iguais')\n",
        "else:\n",
        "  print('As sequencias são diferentes')\n"
      ],
      "metadata": {
        "colab": {
          "base_uri": "https://localhost:8080/"
        },
        "id": "mC3mK0Vkkecr",
        "outputId": "6527f94d-22f8-4876-c67a-a878961b9193"
      },
      "execution_count": null,
      "outputs": [
        {
          "output_type": "stream",
          "name": "stdout",
          "text": [
            "Digite a sequencia 1:ATCG\n",
            "Digite a sequencia 2:ATCG\n",
            "As sequencias são iguais\n"
          ]
        }
      ]
    },
    {
      "cell_type": "code",
      "source": [
        "import re\n",
        "\n",
        "seq1 = input('Digite a sequencia 1:')\n",
        "seq2 = input('Digite a sequencia 2:')\n",
        "\n",
        "busca = re.match(seq1,seq2)\n",
        "\n",
        "if busca:\n",
        "  print('sequencias identicas')\n",
        "  print(busca.group())\n",
        "else: \n",
        "  print('sequencias diferentes')"
      ],
      "metadata": {
        "colab": {
          "base_uri": "https://localhost:8080/"
        },
        "id": "XNsfmUyPlMk-",
        "outputId": "4dd4ad44-e57a-4cb1-f124-50f73d4f737b"
      },
      "execution_count": null,
      "outputs": [
        {
          "output_type": "stream",
          "name": "stdout",
          "text": [
            "Digite a sequencia 1:ATCG\n",
            "Digite a sequencia 2:ATCG\n",
            "sequencias identicas\n",
            "ATCG\n"
          ]
        }
      ]
    },
    {
      "cell_type": "code",
      "source": [
        "#ex: usando função map para atribuir uma função a cada item de uma lista\n",
        "\n",
        "def dobro(x):\n",
        "  return x*2\n",
        "\n",
        "valor = [1, 2, 3, 4, 5]\n",
        "\n",
        "valor_dobrado = map(dobro, valor)\n",
        "\n",
        "for v in valor_dobrado:\n",
        "  print(v)\n",
        "\n",
        "#ou ao inves de usar for v in valor_dobrado\n",
        "\n",
        "valor_dobrado = list(valor_dobrado)\n",
        "print(valor_dobrado)"
      ],
      "metadata": {
        "colab": {
          "base_uri": "https://localhost:8080/"
        },
        "id": "vHJ_24ccpVQT",
        "outputId": "5180c404-38e4-456e-c967-10ca7809be01"
      },
      "execution_count": null,
      "outputs": [
        {
          "output_type": "stream",
          "name": "stdout",
          "text": [
            "2\n",
            "4\n",
            "6\n",
            "8\n",
            "10\n"
          ]
        }
      ]
    },
    {
      "cell_type": "code",
      "source": [
        "#Entretanto, ao inves de criar uma função def, podemos usar a função lambda para criar a função no qual usaremos apenas uma vez\n",
        "valor2 = [10, 20, 30, 40, 50]\n",
        "valor_dobrado2 = map(lambda i:i*2, valor2)\n",
        "# na funcao lambda ela vai receber a função na msm linha, onde eu adiciono i e para cada valor (que estarei colocando em i) será aplicado essa função, que no caso é i*2\n",
        "\n",
        "valor_dobrado2 = list(valor_dobrado2)\n",
        "print(valor_dobrado2)"
      ],
      "metadata": {
        "colab": {
          "base_uri": "https://localhost:8080/"
        },
        "id": "bFoR_OplrBnU",
        "outputId": "2957dee9-9aa6-4a83-8a10-19102e0312b3"
      },
      "execution_count": null,
      "outputs": [
        {
          "output_type": "stream",
          "name": "stdout",
          "text": [
            "[20, 40, 60, 80, 100]\n"
          ]
        }
      ]
    },
    {
      "cell_type": "code",
      "source": [
        "#precisa rodar essa linha de comando para poder usar o Bio.Seq no google colab\n",
        "!pip3 install biopython\n"
      ],
      "metadata": {
        "id": "bdGMOuulsrN3"
      },
      "execution_count": null,
      "outputs": []
    },
    {
      "cell_type": "code",
      "source": [
        "#Biopython: modulo de analise de sequencias\n",
        "from Bio.Seq import Seq\n",
        "\n",
        "#no biopython sequencias são declaradas como objetos e não string, e por isso precisa chamar a sequencia usando \"Seq\"\n",
        "seq = Seq('ACGTAGCTACGATCACAGCTA')\n",
        "print(seq)\n",
        "\n",
        "#Sequencia complementar reversa \n",
        "cr = seq.reverse_complement()            #ACGUAGCUACGAUCACAGCUA\n",
        "print('O reverso complementar é', cr)\n",
        "\n",
        "#Transcrição\n",
        "rna = seq.transcribe()\n",
        "print('O RNA é', rna)\n",
        "\n",
        "#Transcrição reversa\n",
        "dna = rna.back_transcribe()\n",
        "print('O DNA da transcrição reversa é', dna)\n",
        "\n",
        "#Tradução\n",
        "protein = seq.translate()\n",
        "print(\"Sequencia de proteinas é\", protein)\n",
        "#Tradução de fita de DNA\n",
        "protein_dna = rna.back_transcribe()\n",
        "\n",
        "#Reverter sequencia \n",
        "print('Reverter sequencia:')\n",
        "print('A seq original é', seq)\n",
        "print('A seq reversa é', seq[::-1])    #onde [posicao de inicio:posicao final:passo]\n",
        "  #como posicao de inicio e final esta em branco, todas as letras sao usadas, e o -1 indica que a seq deve ser inversa\n",
        "\n",
        "#Receber o indice de cada valor da sequencia\n",
        "for i, n in enumerate(seq):\n",
        "  print(i, n)\n",
        "\n",
        "#Podemos converter objetos de sequencias em strings usando str() e converter string em objeto de sequencia usando Seq()\n",
        "seq2 = str(seq)\n",
        "print(type(seq2))\n",
        "\n",
        "seq3 = Seq(seq2)\n",
        "print(type(seq3))\n",
        "\n",
        "from Bio.SeqUtils import GC\n",
        "\n",
        "print('Conteudo CG')\n",
        "print(GC(seq))\n",
        "\n",
        "\n",
        "\n"
      ],
      "metadata": {
        "colab": {
          "base_uri": "https://localhost:8080/"
        },
        "id": "1-wcj82_rhhL",
        "outputId": "459b797a-0511-400b-c7e7-9aa2b254ba17"
      },
      "execution_count": null,
      "outputs": [
        {
          "output_type": "stream",
          "name": "stdout",
          "text": [
            "ATG\n"
          ]
        }
      ]
    },
    {
      "cell_type": "markdown",
      "source": [
        "Usando arquivos FASTA: cada sequencia é indicada por um cabeçalho iniciado pelo simbolo >\n",
        "\n",
        "Precisamos usar o modulo SeqIO e precisamos enviar o arquivo FASTA para o Colab. Podemos evniar abrindo a aba lateral esquerda, indo em arquivos e evniar a sequencia\n"
      ],
      "metadata": {
        "id": "N4xPxSNqvcVY"
      }
    },
    {
      "cell_type": "code",
      "source": [
        "from Bio import SeqIO \n",
        "\n",
        "#criar um laço (?) para ler todo arquivo de sequencia\n",
        "for fasta in SeqIO.parse('seq.fast', 'fasta'):\n",
        "  print(fasta.id)\n",
        "  print(fasta.seq)\n"
      ],
      "metadata": {
        "id": "iCgDfGxwDb0N"
      },
      "execution_count": null,
      "outputs": []
    },
    {
      "cell_type": "code",
      "source": [
        "#Manipulação de estrutura de proteinas com Biopython\n",
        "import numpy as np\n",
        "from Bio.PDB import *"
      ],
      "metadata": {
        "id": "M999DU2XPvRJ"
      },
      "execution_count": null,
      "outputs": []
    },
    {
      "cell_type": "code",
      "source": [
        "#Isso lê a estrutura 3D de uma proteina e converte em objeto do tipo structure, que entende por meio de uma hierarquia (SMCRA - structure models chains residues atomns), fazendo várias camadas e permitindo que nós navegamos por essas camadas\n",
        "#1. Acessar o site PDB (protein data bank)\n",
        "#2. Faz download em \"PDB format\"\n",
        "#3. Coloca o arquivo na mesma pasta que o script\n",
        "\n",
        "parser = PDBParser()\n",
        "est1 = parser.get_structure('1BGA', '1bga.pdb')     #vc dá o nome da proteina e depois coloca o nome do arquivo como foi salvo\n",
        "'''\n",
        "est1 = est1[0]      #estrutura na posicao 0\n",
        "cadeia_a = est1['A']    #para acessar no modelo a posicao A\n",
        "residuo_100 = cadeia_a[100]\n",
        "atomo = residuo_100['CA']    #CA de carbono alfa\n",
        "'''\n",
        "#ou\n",
        "atomo_100 = est1[0]['A'][100]['CA']\n",
        "atomo_101 = est1[0]['A'][101]['CA']\n",
        "\n",
        "#Distancia euclidiana (entre 2 atomos)\n",
        "dist = atomo_101 - atomo_100    #supondo que tenha feito code para atomo_101\n",
        "print(dist)\n",
        "print('A distancia entre o CA do residuo 101 e 100 é:', dist)\n",
        "\n",
        " "
      ],
      "metadata": {
        "colab": {
          "base_uri": "https://localhost:8080/"
        },
        "id": "nLuB2-MYNuuR",
        "outputId": "489d432b-603c-40b0-e7c5-38d701f67b3e"
      },
      "execution_count": null,
      "outputs": [
        {
          "output_type": "stream",
          "name": "stdout",
          "text": [
            "3.7942057\n",
            "A distancia entre o CA do residuo 101 e 100 é: 3.7942057\n"
          ]
        },
        {
          "output_type": "stream",
          "name": "stderr",
          "text": [
            "/usr/local/lib/python3.7/dist-packages/Bio/PDB/StructureBuilder.py:92: PDBConstructionWarning: WARNING: Chain A is discontinuous at line 15272.\n",
            "  PDBConstructionWarning,\n",
            "/usr/local/lib/python3.7/dist-packages/Bio/PDB/StructureBuilder.py:92: PDBConstructionWarning: WARNING: Chain B is discontinuous at line 15654.\n",
            "  PDBConstructionWarning,\n",
            "/usr/local/lib/python3.7/dist-packages/Bio/PDB/StructureBuilder.py:92: PDBConstructionWarning: WARNING: Chain C is discontinuous at line 16050.\n",
            "  PDBConstructionWarning,\n",
            "/usr/local/lib/python3.7/dist-packages/Bio/PDB/StructureBuilder.py:92: PDBConstructionWarning: WARNING: Chain D is discontinuous at line 16434.\n",
            "  PDBConstructionWarning,\n"
          ]
        }
      ]
    },
    {
      "cell_type": "code",
      "source": [
        "#Comparar sequencia de RNA ribossomal entre humanos e bactérias\n",
        "##https://www.ncbi.nlm.nih.gov/nuccore/M10098.1?report=fasta\n",
        "##https://www.ncbi.nlm.nih.gov/nuccore/NR_024570.1?report=fasta\n",
        "entrada = open(\"16s_bacteria.fasta\").read()\n",
        "saida = open(\"16s_bacteria.html\",\"w\")\n",
        "\n",
        "cont = {}\n",
        "\n",
        "#O code abaixo vai criar o dicionario de par em par, ou seja, AA,AT,AC,AG,TA,TT,TC,TG... (sao 16 combinacoes)\n",
        "for i in ['A', 'T', 'C', 'G']:\n",
        "\tfor j in ['A', 'T', 'C', 'G']:\n",
        "\t\tcont[i+j] = 0\n",
        "\n",
        "entrada = entrada.replace(\"\\n\",\"\")    #o arquivo fasta tem quebras de linha que interfere nos codigos\n",
        "\n",
        "#O code abaixo percorre o fasta e ver a qnt de nucleotideos\n",
        "for k in range(len(entrada)-1):             #percorre de 0 ate tamanho, que no caso é 1469 nucleotideos\n",
        "\tcont[entrada[k]+entrada[k+1]] += 1        #+=1 soma no dicionario\n",
        "\n",
        "\n",
        "##entrada na posicao k[0] é =A, que é 1° valor da sequencia\n",
        "##entrada na posicao k+1 é = G, que é 2° valor da sequencia\n",
        "###então, [entrada[k]+entrada[k+1] = AG]   -> adiciona 1 no dicionário em AG\n",
        "\n",
        "print(cont)\n",
        "\n",
        "\n",
        "\n",
        "# html: usado para criar o 'grafico' de comparacao\n",
        "saida.write(\"<div>\")\n",
        "\n",
        "i = 1\n",
        "for k in cont:\n",
        "\ttransparencia = cont[k]/max(cont.values())              #pega todos os valores, vê qual é o maior, faz a divisao da transparencia. O mais colorido é o maior valor\n",
        "\tsaida.write(\"<div style='width:100px; border:1px solid #111; color:#fff; height:100px; float:left; background-color:rgba(0, 0, 0, \"+str(transparencia)+\"')>\"+k+\"</div>\")\n",
        "\n",
        "\tif i%4 == 0:                                            #vai quebrar o html a cada 4 (porque temos 16 combinacoes)\n",
        "\t\tsaida.write(\"<div style='clear:both'></div>\")\n",
        "\n",
        "\ti+=1\n",
        "\n",
        "saida.close()\n",
        "\n",
        "#teoricamente deveria ter um arquivo html onde a gente abre na internet e ve 4x4 quadrados\n",
        "#achei esse arquivo onde importei os dados, fiz download e abri"
      ],
      "metadata": {
        "colab": {
          "base_uri": "https://localhost:8080/"
        },
        "id": "2l3EacL_SbQK",
        "outputId": "7b88ee0e-5280-4a16-e551-cf80de65c1e4"
      },
      "execution_count": null,
      "outputs": [
        {
          "output_type": "stream",
          "name": "stdout",
          "text": [
            "{'AA': 105, 'AT': 64, 'AC': 86, 'AG': 111, 'TA': 64, 'TT': 57, 'TC': 60, 'TG': 108, 'CA': 83, 'CT': 75, 'CC': 74, 'CG': 97, 'GA': 113, 'GT': 93, 'GC': 109, 'GG': 147}\n"
          ]
        }
      ]
    },
    {
      "cell_type": "code",
      "source": [
        "#fazer para humanos\n",
        "entrada = open(\"18s_humano.fasta\").read()\n",
        "saida = open(\"18s_humano.html\",\"w\")\n",
        "\n",
        "cont = {}\n",
        "\n",
        "#O code abaixo vai criar o dicionario de par em par, ou seja, AA,AT,AC,AG,TA,TT,TC,TG... (sao 16 combinacoes)\n",
        "for i in ['A', 'T', 'C', 'G']:\n",
        "\tfor j in ['A', 'T', 'C', 'G']:\n",
        "\t\tcont[i+j] = 0\n",
        "\n",
        "entrada = entrada.replace(\"\\n\",\"\")    #o arquivo fasta tem quebras de linha que interfere nos codigos\n",
        "\n",
        "#O code abaixo percorre o fasta e ver a qnt de nucleotideos\n",
        "for k in range(len(entrada)-1):             #percorre de 0 ate tamanho, que no caso é 1469 nucleotideos\n",
        "\tcont[entrada[k]+entrada[k+1]] += 1        #+=1 soma no dicionario\n",
        "\n",
        "\n",
        "##entrada na posicao k[0] é =A, que é 1° valor da sequencia\n",
        "##entrada na posicao k+1 é = G, que é 2° valor da sequencia\n",
        "###então, [entrada[k]+entrada[k+1] = AG]   -> adiciona 1 no dicionário em AG\n",
        "\n",
        "print(cont)\n",
        "\n",
        "\n",
        "\n",
        "# html: usado para criar o 'grafico' de comparacao\n",
        "saida.write(\"<div>\")\n",
        "\n",
        "i = 1\n",
        "for k in cont:\n",
        "\ttransparencia = cont[k]/max(cont.values())              #pega todos os valores, vê qual é o maior, faz a divisao da transparencia. O mais colorido é o maior valor\n",
        "\tsaida.write(\"<div style='width:100px; border:1px solid #111; color:#fff; height:100px; float:left; background-color:rgba(0, 0, 0, \"+str(transparencia)+\"')>\"+k+\"</div>\")\n",
        "\n",
        "\tif i%4 == 0:                                            #vai quebrar o html a cada 4 (porque temos 16 combinacoes)\n",
        "\t\tsaida.write(\"<div style='clear:both'></div>\")\n",
        "\n",
        "\ti+=1\n",
        "\n",
        "saida.close()\n",
        "\n",
        "#teoricamente deveria ter um arquivo html onde a gente abre na internet e ve 4x4 quadrados\n",
        "#achei esse arquivo onde importei os dados, fiz download e abri"
      ],
      "metadata": {
        "colab": {
          "base_uri": "https://localhost:8080/"
        },
        "id": "Vpg4ghQUY5uf",
        "outputId": "ba263fe0-522c-4777-bbd5-15045424f2a0"
      },
      "execution_count": null,
      "outputs": [
        {
          "output_type": "stream",
          "name": "stdout",
          "text": [
            "{'AA': 116, 'AT': 95, 'AC': 97, 'AG': 113, 'TA': 85, 'TT': 113, 'TC': 109, 'TG': 111, 'CA': 87, 'CT': 105, 'CC': 184, 'CG': 170, 'GA': 134, 'GT': 105, 'GC': 155, 'GG': 184}\n"
          ]
        }
      ]
    },
    {
      "cell_type": "code",
      "source": [
        "#Bases de dados biológicos\n",
        "\n",
        "#PDB protein data bank\n",
        "#ZINC base de moleculas ligantes\n",
        "#UniProt base de dados de sequencia de proteinas (tem swiss prot (tem info manualmente anotada e revisada) e TrEMBL (não foram revisadas))\n",
        "#GenBank do NCBI\n",
        "#SRA armazena dados brutos de sequenciamento\n",
        "#Pfam armazena coleção de familia de proteinas "
      ],
      "metadata": {
        "id": "VxAO7CRsIZHy"
      },
      "execution_count": null,
      "outputs": []
    },
    {
      "cell_type": "code",
      "source": [
        "#Alinhamento sequencias\n"
      ],
      "metadata": {
        "id": "BwypPyUNbThv"
      },
      "execution_count": null,
      "outputs": []
    },
    {
      "cell_type": "code",
      "source": [],
      "metadata": {
        "id": "v_g_jIcbbTfQ"
      },
      "execution_count": null,
      "outputs": []
    },
    {
      "cell_type": "code",
      "source": [],
      "metadata": {
        "id": "Z1E47893bTc6"
      },
      "execution_count": null,
      "outputs": []
    },
    {
      "cell_type": "code",
      "source": [],
      "metadata": {
        "id": "scb0K9HCbTaf"
      },
      "execution_count": null,
      "outputs": []
    },
    {
      "cell_type": "markdown",
      "source": [],
      "metadata": {
        "id": "d2qUPyuxbSSO"
      }
    },
    {
      "cell_type": "code",
      "source": [
        "## https://bioinfo.com.br/biopython-uma-breve-introducao-a-manipulacao-de-dados-biologicos-em-python-usando-colab/\n",
        "from Bio import SeqIO \n",
        "from Bio.SeqRecord import SeqRecord\n",
        "import re\n",
        "\n",
        "gravar = []\n",
        "\n",
        "for i in SeqIO.parse(\"seq.fasta\", \"fasta\"):\n",
        "  nome = i.id\n",
        "  descricao = i.description\n",
        "  seq = i.seq \n",
        "\n",
        "  # coletando o id do uniprot\n",
        " \n",
        "  id_uniprot = re.findall('\\|.*\\|', descricao)\n",
        "  id_uniprot = id_uniprot[0].replace(\"|\", \"\")\n",
        "\n",
        "  # seqrecord \n",
        "  \n",
        "  aux = SeqRecord(\n",
        "      seq, \n",
        "      id = id_uniprot,\n",
        "      description=\"\"\n",
        "  )\n",
        "  gravar.append(aux)\n",
        "\n",
        "  # criando um novo arquivo fasta \n",
        "\n",
        "SeqIO.write(\n",
        "    gravar,\n",
        "    \"seq2.fasta\",\n",
        "    \"fasta\"\n",
        ") "
      ],
      "metadata": {
        "id": "YBiD-n3OvXed"
      },
      "execution_count": null,
      "outputs": []
    }
  ]
}